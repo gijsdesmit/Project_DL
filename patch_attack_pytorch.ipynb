{
 "cells": [
  {
   "cell_type": "code",
   "execution_count": 1,
   "outputs": [],
   "source": [
    "import numpy as np\n",
    "from tqdm import tqdm\n",
    "import matplotlib.pyplot as plt\n",
    "from torch.utils.data import TensorDataset, DataLoader\n",
    "import torch\n",
    "from torch import nn\n",
    "import torch.nn.functional as F"
   ],
   "metadata": {
    "collapsed": false,
    "ExecuteTime": {
     "end_time": "2024-01-10T19:46:17.629633400Z",
     "start_time": "2024-01-10T19:46:01.423805400Z"
    }
   },
   "id": "8327a012518cacdb"
  },
  {
   "cell_type": "code",
   "execution_count": 2,
   "outputs": [],
   "source": [
    "numChannels = 1\n",
    "numFilters = 128 # number of filters in Conv2D layer\n",
    "kernalSize1 = 2 # kernal size of the Conv2D layer\n",
    "poolingWindowSz = 2\n",
    "# number of filters in fully connected layers\n",
    "numNueronsFCL1 = 128\n",
    "numNueronsFCL2 = 128\n",
    "dropOutRatio = 0.2\n",
    "numOfRows = 90\n",
    "numOfColumns = 3\n",
    "numClasses = 6\n",
    "batchSize = 10\n",
    "\n",
    "class PyTorchModel(nn.Module):\n",
    "    def __init__(self):\n",
    "        super(PyTorchModel, self).__init__()\n",
    "        # add random\n",
    "       \n",
    "        self.conv1 = nn.Conv2d(numChannels, numFilters, (kernalSize1, kernalSize1))\n",
    "        self.pool = nn.MaxPool2d((poolingWindowSz, poolingWindowSz))\n",
    "        self.dropout = nn.Dropout(dropOutRatio)\n",
    "        self.fc1 = nn.Linear(numFilters * ((numOfRows - kernalSize1 + 1) // poolingWindowSz) * ((numOfColumns - kernalSize1 + 1) // poolingWindowSz), numNueronsFCL1)\n",
    "        self.fc2 = nn.Linear(numNueronsFCL1, numNueronsFCL2)\n",
    "        self.fc3 = nn.Linear(numNueronsFCL2, numClasses)\n",
    "\n",
    "    def forward(self, x):\n",
    "        x = self.pool(F.relu(self.conv1(x)))\n",
    "        x = self.dropout(x)\n",
    "        x = x.view(-1, numFilters * ((numOfRows - kernalSize1 + 1) // poolingWindowSz) * ((numOfColumns - kernalSize1 + 1) // poolingWindowSz))\n",
    "        x = F.relu(self.fc1(x))\n",
    "        x = F.relu(self.fc2(x))\n",
    "        x = self.fc3(x)\n",
    "        return x"
   ],
   "metadata": {
    "collapsed": false,
    "ExecuteTime": {
     "end_time": "2024-01-10T19:46:17.672630200Z",
     "start_time": "2024-01-10T19:46:17.640631200Z"
    }
   },
   "id": "b71b3ba14ff1c6f4"
  },
  {
   "cell_type": "code",
   "execution_count": 3,
   "outputs": [
    {
     "data": {
      "text/plain": "<All keys matched successfully>"
     },
     "execution_count": 3,
     "metadata": {},
     "output_type": "execute_result"
    }
   ],
   "source": [
    "#load python model\n",
    "model = PyTorchModel()\n",
    "state_dict = torch.load('model_pytorch.pth')\n",
    "model.load_state_dict(state_dict)"
   ],
   "metadata": {
    "collapsed": false,
    "ExecuteTime": {
     "end_time": "2024-01-10T19:46:18.135164700Z",
     "start_time": "2024-01-10T19:46:17.657630800Z"
    }
   },
   "id": "1f8dbcc25fdadcdf"
  },
  {
   "cell_type": "code",
   "execution_count": 4,
   "outputs": [],
   "source": [
    "testX = np.load('testData.npy')\n",
    "testY = np.load('groundTruth.npy')\n",
    "trainX = np.load('trainData.npy')\n",
    "trainY = np.load('trainLabels.npy')\n",
    "\n",
    "# Convert the training and testing data to PyTorch tensors\n",
    "trainX_torch = torch.from_numpy(np.transpose(trainX, (0, 3, 1, 2))).float()\n",
    "trainY_torch = torch.from_numpy(np.argmax(trainY, axis=1)).long()\n",
    "testX_torch = torch.from_numpy(np.transpose(testX, (0, 3, 1, 2))).float()\n",
    "testY_torch = torch.from_numpy(np.argmax(testY, axis=1)).long()\n",
    "\n",
    "# Create TensorDatasets for training and testing data\n",
    "train_data = TensorDataset(trainX_torch, trainY_torch)\n",
    "test_data = TensorDataset(testX_torch, testY_torch)\n",
    "\n",
    "# Create DataLoaders for training and testing data\n",
    "train_loader = DataLoader(train_data, batch_size=batchSize, shuffle=True)\n",
    "test_loader = DataLoader(test_data, batch_size=batchSize, shuffle=False)"
   ],
   "metadata": {
    "collapsed": false,
    "ExecuteTime": {
     "end_time": "2024-01-10T19:46:18.480461600Z",
     "start_time": "2024-01-10T19:46:18.140168500Z"
    }
   },
   "id": "6d1d215b0881fef5"
  },
  {
   "cell_type": "code",
   "execution_count": 5,
   "outputs": [],
   "source": [
    "# In this notebook we will perform Adversarial Patch attack on the model, by treating a training sample as a 2D image (90 X 3) and placing a patch on it.\n",
    "# We will use the PyTorch framework to implement the attack.\n",
    "\n",
    "device = torch.device(\"cuda:0\" if torch.cuda.is_available() else \"cpu\")"
   ],
   "metadata": {
    "collapsed": false,
    "ExecuteTime": {
     "end_time": "2024-01-10T19:46:18.499984600Z",
     "start_time": "2024-01-10T19:46:18.483462800Z"
    }
   },
   "id": "2e2a1445458e323a"
  },
  {
   "cell_type": "code",
   "execution_count": 6,
   "outputs": [],
   "source": [
    "# Now we will try to attack the network using Adversarial Patch\n",
    "# We will treat each sample as a 2D image and place a patch on it\n",
    "\n",
    "# This function is used to normalize the data\n",
    "def patch_forward(patch):\n",
    "    #patch = (torch.tanh(patch) + 1 - 2 * TENSOR_MEANS) / (2 * TENSOR_STD)\n",
    "    #TODO: is this right way to do this? If not normalised do the line above?\n",
    "    patch = torch.tanh(patch)\n",
    "    return patch"
   ],
   "metadata": {
    "collapsed": false,
    "ExecuteTime": {
     "end_time": "2024-01-10T13:43:25.099801Z",
     "start_time": "2024-01-10T13:43:25.062801300Z"
    }
   },
   "id": "4d4dbe98956de47c"
  },
  {
   "cell_type": "code",
   "execution_count": 7,
   "outputs": [],
   "source": [
    "def plot_sample(sample):\n",
    "    sample = np.transpose(sample.detach().numpy())\n",
    "    plt.imshow(sample, aspect='auto')\n",
    "    plt.show()"
   ],
   "metadata": {
    "collapsed": false,
    "ExecuteTime": {
     "end_time": "2024-01-10T13:43:25.102800900Z",
     "start_time": "2024-01-10T13:43:25.082799700Z"
    }
   },
   "id": "8e5ddcd64567c0ab"
  },
  {
   "cell_type": "code",
   "execution_count": 8,
   "outputs": [],
   "source": [
    "# Place patch in each sample\n",
    "def place_patch(data, patch_train):\n",
    "    #data shape:           torch.Size([10, 1, 90, 3])\n",
    "    #patch shape example:  torch.Size([20, 3])\n",
    "    \n",
    "    if patch_train.shape[1] > 3 or patch_train.shape[0] > data.shape[2]:\n",
    "        print('Patch shape exceeds data shape and is invalid!')\n",
    "        return\n",
    "\n",
    "    for i in range(data.shape[0]): #for each sample\n",
    "        if data.shape[2] != patch_train.shape[0]:\n",
    "            w = np.random.randint(0, data.shape[2] - patch_train.shape[0]) #randomly select a starting point for the patch\n",
    "        else:\n",
    "            w = 0\n",
    "            \n",
    "        if data.shape[3] != patch_train.shape[1]:\n",
    "            h = np.random.randint(0, data.shape[3] - patch_train.shape[1]) #randomly select a starting point for the patch\n",
    "        else:\n",
    "            h = 0\n",
    "            \n",
    "        data[i, :, w:w + patch_train.shape[0], h:h + patch_train.shape[1]] = patch_forward(patch_train)#.reshape(patch_train.shape[0], patch_train.shape[1], 1)\n",
    "    return data"
   ],
   "metadata": {
    "collapsed": true,
    "ExecuteTime": {
     "end_time": "2024-01-10T13:43:25.109798200Z",
     "start_time": "2024-01-10T13:43:25.094801300Z"
    }
   },
   "id": "initial_id"
  },
  {
   "cell_type": "code",
   "execution_count": 9,
   "outputs": [],
   "source": [
    "# Define the eval_patch function\n",
    "def eval_patch(model, p, test_loader, target_class):\n",
    "    model.eval()\n",
    "    tp, counter = 0., 0.\n",
    "    with torch.no_grad():\n",
    "        for sample, labels in tqdm(test_loader, desc=\"Evaluating patch...\", leave=False):\n",
    "            for _ in range(2): # place patch at 2 random locations and average\n",
    "                patched_sample = place_patch(sample, p)\n",
    "                patched_sample = patched_sample.to(device)\n",
    "                labels = labels.to(device)\n",
    "                predictions = model(patched_sample)\n",
    "                tp += torch.logical_and(predictions.argmax(dim=-1) == target_class, labels != target_class).sum()\n",
    "                counter += (labels != target_class).sum()\n",
    "    acc = tp / counter\n",
    "    return acc"
   ],
   "metadata": {
    "collapsed": false,
    "ExecuteTime": {
     "end_time": "2024-01-10T13:43:25.158800200Z",
     "start_time": "2024-01-10T13:43:25.108799600Z"
    }
   },
   "id": "b4b7fc7fcc3cf41a"
  },
  {
   "cell_type": "code",
   "execution_count": 10,
   "outputs": [],
   "source": [
    "# Define the patch_attack function # TORCH\n",
    "def patch_attack(model, train_loader, test_loader, target_class, patch_size=(20,3), num_epochs=5):\n",
    "    assert isinstance(patch_size, tuple) and len(patch_size) == 2\n",
    "    patch = nn.Parameter(torch.zeros(patch_size[0], patch_size[1]), requires_grad=True)\n",
    "    optimizer = torch.optim.SGD([patch], lr=1e-1, momentum=0.8)\n",
    "    loss_module = nn.CrossEntropyLoss()\n",
    "\n",
    "    accs = []\n",
    "    for epoch in range(num_epochs):\n",
    "        t = tqdm(train_loader, leave=False)\n",
    "        for batch, _ in t:\n",
    "            batch = place_patch(batch, patch)\n",
    "            batch = batch.to(device).float()\n",
    "            predictions = model(batch)\n",
    "            labels = torch.zeros(batch.shape[0], device=predictions.device, dtype=torch.long).fill_(target_class)\n",
    "            loss = loss_module(predictions, labels)\n",
    "            optimizer.zero_grad()\n",
    "            loss.mean().backward()\n",
    "            optimizer.step()\n",
    "            t.set_description(f\"Epoch {epoch}, Loss: {loss.item():4.2f}\")\n",
    "        \n",
    "        acc = eval_patch(model, patch, test_loader, target_class)\n",
    "        accs.append(acc.item())\n",
    "        print(f\"Epoch {epoch}, Test Accuracy: {acc.item():4.2f}\")\n",
    "        plot_sample(patch)\n",
    "        \n",
    "    return patch.data, accs"
   ],
   "metadata": {
    "collapsed": false,
    "ExecuteTime": {
     "end_time": "2024-01-10T13:43:25.159802200Z",
     "start_time": "2024-01-10T13:43:25.135802200Z"
    }
   },
   "id": "8bdeed8b01920af"
  },
  {
   "cell_type": "code",
   "execution_count": 19,
   "outputs": [
    {
     "name": "stderr",
     "output_type": "stream",
     "text": [
      "                                                                        \r"
     ]
    },
    {
     "name": "stdout",
     "output_type": "stream",
     "text": [
      "Epoch 0, Test Accuracy: 0.77\n"
     ]
    },
    {
     "data": {
      "text/plain": "<Figure size 640x480 with 1 Axes>",
      "image/png": "[encoded data removed]"
     },
     "metadata": {},
     "output_type": "display_data"
    },
    {
     "name": "stderr",
     "output_type": "stream",
     "text": [
      "                                                                        \r"
     ]
    },
    {
     "name": "stdout",
     "output_type": "stream",
     "text": [
      "Epoch 1, Test Accuracy: 0.76\n"
     ]
    },
    {
     "data": {
      "text/plain": "<Figure size 640x480 with 1 Axes>",
      "image/png": "[encoded data removed]"
     },
     "metadata": {},
     "output_type": "display_data"
    },
    {
     "name": "stderr",
     "output_type": "stream",
     "text": [
      "                                                                        \r"
     ]
    },
    {
     "name": "stdout",
     "output_type": "stream",
     "text": [
      "Epoch 2, Test Accuracy: 0.77\n"
     ]
    },
    {
     "data": {
      "text/plain": "<Figure size 640x480 with 1 Axes>",
      "image/png": "[encoded data removed]"
     },
     "metadata": {},
     "output_type": "display_data"
    },
    {
     "name": "stderr",
     "output_type": "stream",
     "text": [
      "                                                                       \r"
     ]
    },
    {
     "ename": "KeyboardInterrupt",
     "evalue": "",
     "output_type": "error",
     "traceback": [
      "\u001B[1;31m---------------------------------------------------------------------------\u001B[0m",
      "\u001B[1;31mKeyboardInterrupt\u001B[0m                         Traceback (most recent call last)",
      "Cell \u001B[1;32mIn[19], line 2\u001B[0m\n\u001B[0;32m      1\u001B[0m \u001B[38;5;66;03m# Run the patch_attack function\u001B[39;00m\n\u001B[1;32m----> 2\u001B[0m patch, metrics \u001B[38;5;241m=\u001B[39m \u001B[43mpatch_attack\u001B[49m\u001B[43m(\u001B[49m\u001B[43mmodel\u001B[49m\u001B[43m,\u001B[49m\u001B[43m \u001B[49m\u001B[43mtrain_loader\u001B[49m\u001B[43m,\u001B[49m\u001B[43m \u001B[49m\u001B[43mtest_loader\u001B[49m\u001B[43m,\u001B[49m\u001B[43m \u001B[49m\u001B[43mtarget_class\u001B[49m\u001B[38;5;241;43m=\u001B[39;49m\u001B[38;5;241;43m0\u001B[39;49m\u001B[43m,\u001B[49m\u001B[43m \u001B[49m\u001B[43mpatch_size\u001B[49m\u001B[38;5;241;43m=\u001B[39;49m\u001B[43m(\u001B[49m\u001B[38;5;241;43m40\u001B[39;49m\u001B[43m,\u001B[49m\u001B[38;5;241;43m3\u001B[39;49m\u001B[43m)\u001B[49m\u001B[43m,\u001B[49m\u001B[43m \u001B[49m\u001B[43mnum_epochs\u001B[49m\u001B[38;5;241;43m=\u001B[39;49m\u001B[38;5;241;43m5\u001B[39;49m\u001B[43m)\u001B[49m\n",
      "Cell \u001B[1;32mIn[17], line 14\u001B[0m, in \u001B[0;36mpatch_attack\u001B[1;34m(model, train_loader, test_loader, target_class, patch_size, num_epochs)\u001B[0m\n\u001B[0;32m     12\u001B[0m batch \u001B[38;5;241m=\u001B[39m place_patch(batch, patch)\n\u001B[0;32m     13\u001B[0m batch \u001B[38;5;241m=\u001B[39m batch\u001B[38;5;241m.\u001B[39mto(device)\u001B[38;5;241m.\u001B[39mfloat()\n\u001B[1;32m---> 14\u001B[0m predictions \u001B[38;5;241m=\u001B[39m \u001B[43mmodel\u001B[49m\u001B[43m(\u001B[49m\u001B[43mbatch\u001B[49m\u001B[43m)\u001B[49m\n\u001B[0;32m     15\u001B[0m labels \u001B[38;5;241m=\u001B[39m torch\u001B[38;5;241m.\u001B[39mzeros(batch\u001B[38;5;241m.\u001B[39mshape[\u001B[38;5;241m0\u001B[39m], device\u001B[38;5;241m=\u001B[39mpredictions\u001B[38;5;241m.\u001B[39mdevice, dtype\u001B[38;5;241m=\u001B[39mtorch\u001B[38;5;241m.\u001B[39mlong)\u001B[38;5;241m.\u001B[39mfill_(target_class)\n\u001B[0;32m     16\u001B[0m loss \u001B[38;5;241m=\u001B[39m loss_module(predictions, labels)\n",
      "File \u001B[1;32mE:\\Anaconda\\lib\\site-packages\\torch\\nn\\modules\\module.py:1130\u001B[0m, in \u001B[0;36mModule._call_impl\u001B[1;34m(self, *input, **kwargs)\u001B[0m\n\u001B[0;32m   1126\u001B[0m \u001B[38;5;66;03m# If we don't have any hooks, we want to skip the rest of the logic in\u001B[39;00m\n\u001B[0;32m   1127\u001B[0m \u001B[38;5;66;03m# this function, and just call forward.\u001B[39;00m\n\u001B[0;32m   1128\u001B[0m \u001B[38;5;28;01mif\u001B[39;00m \u001B[38;5;129;01mnot\u001B[39;00m (\u001B[38;5;28mself\u001B[39m\u001B[38;5;241m.\u001B[39m_backward_hooks \u001B[38;5;129;01mor\u001B[39;00m \u001B[38;5;28mself\u001B[39m\u001B[38;5;241m.\u001B[39m_forward_hooks \u001B[38;5;129;01mor\u001B[39;00m \u001B[38;5;28mself\u001B[39m\u001B[38;5;241m.\u001B[39m_forward_pre_hooks \u001B[38;5;129;01mor\u001B[39;00m _global_backward_hooks\n\u001B[0;32m   1129\u001B[0m         \u001B[38;5;129;01mor\u001B[39;00m _global_forward_hooks \u001B[38;5;129;01mor\u001B[39;00m _global_forward_pre_hooks):\n\u001B[1;32m-> 1130\u001B[0m     \u001B[38;5;28;01mreturn\u001B[39;00m forward_call(\u001B[38;5;241m*\u001B[39m\u001B[38;5;28minput\u001B[39m, \u001B[38;5;241m*\u001B[39m\u001B[38;5;241m*\u001B[39mkwargs)\n\u001B[0;32m   1131\u001B[0m \u001B[38;5;66;03m# Do not call functions when jit is used\u001B[39;00m\n\u001B[0;32m   1132\u001B[0m full_backward_hooks, non_full_backward_hooks \u001B[38;5;241m=\u001B[39m [], []\n",
      "Cell \u001B[1;32mIn[3], line 28\u001B[0m, in \u001B[0;36mPyTorchModel.forward\u001B[1;34m(self, x)\u001B[0m\n\u001B[0;32m     26\u001B[0m x \u001B[38;5;241m=\u001B[39m \u001B[38;5;28mself\u001B[39m\u001B[38;5;241m.\u001B[39mdropout(x)\n\u001B[0;32m     27\u001B[0m x \u001B[38;5;241m=\u001B[39m x\u001B[38;5;241m.\u001B[39mview(\u001B[38;5;241m-\u001B[39m\u001B[38;5;241m1\u001B[39m, numFilters \u001B[38;5;241m*\u001B[39m ((numOfRows \u001B[38;5;241m-\u001B[39m kernalSize1 \u001B[38;5;241m+\u001B[39m \u001B[38;5;241m1\u001B[39m) \u001B[38;5;241m/\u001B[39m\u001B[38;5;241m/\u001B[39m poolingWindowSz) \u001B[38;5;241m*\u001B[39m ((numOfColumns \u001B[38;5;241m-\u001B[39m kernalSize1 \u001B[38;5;241m+\u001B[39m \u001B[38;5;241m1\u001B[39m) \u001B[38;5;241m/\u001B[39m\u001B[38;5;241m/\u001B[39m poolingWindowSz))\n\u001B[1;32m---> 28\u001B[0m x \u001B[38;5;241m=\u001B[39m F\u001B[38;5;241m.\u001B[39mrelu(\u001B[38;5;28;43mself\u001B[39;49m\u001B[38;5;241;43m.\u001B[39;49m\u001B[43mfc1\u001B[49m\u001B[43m(\u001B[49m\u001B[43mx\u001B[49m\u001B[43m)\u001B[49m)\n\u001B[0;32m     29\u001B[0m x \u001B[38;5;241m=\u001B[39m F\u001B[38;5;241m.\u001B[39mrelu(\u001B[38;5;28mself\u001B[39m\u001B[38;5;241m.\u001B[39mfc2(x))\n\u001B[0;32m     30\u001B[0m x \u001B[38;5;241m=\u001B[39m \u001B[38;5;28mself\u001B[39m\u001B[38;5;241m.\u001B[39mfc3(x)\n",
      "File \u001B[1;32mE:\\Anaconda\\lib\\site-packages\\torch\\nn\\modules\\module.py:1130\u001B[0m, in \u001B[0;36mModule._call_impl\u001B[1;34m(self, *input, **kwargs)\u001B[0m\n\u001B[0;32m   1126\u001B[0m \u001B[38;5;66;03m# If we don't have any hooks, we want to skip the rest of the logic in\u001B[39;00m\n\u001B[0;32m   1127\u001B[0m \u001B[38;5;66;03m# this function, and just call forward.\u001B[39;00m\n\u001B[0;32m   1128\u001B[0m \u001B[38;5;28;01mif\u001B[39;00m \u001B[38;5;129;01mnot\u001B[39;00m (\u001B[38;5;28mself\u001B[39m\u001B[38;5;241m.\u001B[39m_backward_hooks \u001B[38;5;129;01mor\u001B[39;00m \u001B[38;5;28mself\u001B[39m\u001B[38;5;241m.\u001B[39m_forward_hooks \u001B[38;5;129;01mor\u001B[39;00m \u001B[38;5;28mself\u001B[39m\u001B[38;5;241m.\u001B[39m_forward_pre_hooks \u001B[38;5;129;01mor\u001B[39;00m _global_backward_hooks\n\u001B[0;32m   1129\u001B[0m         \u001B[38;5;129;01mor\u001B[39;00m _global_forward_hooks \u001B[38;5;129;01mor\u001B[39;00m _global_forward_pre_hooks):\n\u001B[1;32m-> 1130\u001B[0m     \u001B[38;5;28;01mreturn\u001B[39;00m forward_call(\u001B[38;5;241m*\u001B[39m\u001B[38;5;28minput\u001B[39m, \u001B[38;5;241m*\u001B[39m\u001B[38;5;241m*\u001B[39mkwargs)\n\u001B[0;32m   1131\u001B[0m \u001B[38;5;66;03m# Do not call functions when jit is used\u001B[39;00m\n\u001B[0;32m   1132\u001B[0m full_backward_hooks, non_full_backward_hooks \u001B[38;5;241m=\u001B[39m [], []\n",
      "File \u001B[1;32mE:\\Anaconda\\lib\\site-packages\\torch\\nn\\modules\\linear.py:114\u001B[0m, in \u001B[0;36mLinear.forward\u001B[1;34m(self, input)\u001B[0m\n\u001B[0;32m    113\u001B[0m \u001B[38;5;28;01mdef\u001B[39;00m \u001B[38;5;21mforward\u001B[39m(\u001B[38;5;28mself\u001B[39m, \u001B[38;5;28minput\u001B[39m: Tensor) \u001B[38;5;241m-\u001B[39m\u001B[38;5;241m>\u001B[39m Tensor:\n\u001B[1;32m--> 114\u001B[0m     \u001B[38;5;28;01mreturn\u001B[39;00m \u001B[43mF\u001B[49m\u001B[38;5;241;43m.\u001B[39;49m\u001B[43mlinear\u001B[49m\u001B[43m(\u001B[49m\u001B[38;5;28;43minput\u001B[39;49m\u001B[43m,\u001B[49m\u001B[43m \u001B[49m\u001B[38;5;28;43mself\u001B[39;49m\u001B[38;5;241;43m.\u001B[39;49m\u001B[43mweight\u001B[49m\u001B[43m,\u001B[49m\u001B[43m \u001B[49m\u001B[38;5;28;43mself\u001B[39;49m\u001B[38;5;241;43m.\u001B[39;49m\u001B[43mbias\u001B[49m\u001B[43m)\u001B[49m\n",
      "\u001B[1;31mKeyboardInterrupt\u001B[0m: "
     ]
    }
   ],
   "source": [
    "# Run the patch_attack function\n",
    "patch, metrics = patch_attack(model, train_loader, test_loader, target_class=0, patch_size=(40,3), num_epochs=2)"
   ],
   "metadata": {
    "collapsed": false,
    "ExecuteTime": {
     "end_time": "2024-01-10T11:32:19.540405100Z",
     "start_time": "2024-01-10T11:28:58.146748Z"
    }
   },
   "id": "24de43571f61ae9e"
  },
  {
   "cell_type": "code",
   "execution_count": 20,
   "outputs": [
    {
     "name": "stderr",
     "output_type": "stream",
     "text": [
      "                                                                        \r"
     ]
    },
    {
     "name": "stdout",
     "output_type": "stream",
     "text": [
      "Epoch 0, Test Accuracy: 0.46\n"
     ]
    },
    {
     "data": {
      "text/plain": "<Figure size 640x480 with 1 Axes>",
      "image/png": "[encoded data removed]"
     },
     "metadata": {},
     "output_type": "display_data"
    },
    {
     "name": "stderr",
     "output_type": "stream",
     "text": [
      "                                                                        \r"
     ]
    },
    {
     "name": "stdout",
     "output_type": "stream",
     "text": [
      "Epoch 1, Test Accuracy: 0.49\n"
     ]
    },
    {
     "data": {
      "text/plain": "<Figure size 640x480 with 1 Axes>",
      "image/png": "[encoded data removed]"
     },
     "metadata": {},
     "output_type": "display_data"
    }
   ],
   "source": [
    "# Run the patch_attack function\n",
    "patch, metrics = patch_attack(model, train_loader, test_loader, target_class=1, patch_size=(30,3), num_epochs=2)"
   ],
   "metadata": {
    "collapsed": false,
    "ExecuteTime": {
     "end_time": "2024-01-10T11:34:29.794388500Z",
     "start_time": "2024-01-10T11:32:21.811064900Z"
    }
   },
   "id": "ab2b477ed5277cb5"
  },
  {
   "cell_type": "code",
   "execution_count": 26,
   "outputs": [
    {
     "name": "stderr",
     "output_type": "stream",
     "text": [
      "                                                                         \r"
     ]
    },
    {
     "name": "stdout",
     "output_type": "stream",
     "text": [
      "Epoch 0, Test Accuracy: 0.69\n"
     ]
    },
    {
     "data": {
      "text/plain": "<Figure size 640x480 with 1 Axes>",
      "image/png": "[encoded data removed]"
     },
     "metadata": {},
     "output_type": "display_data"
    },
    {
     "name": "stderr",
     "output_type": "stream",
     "text": [
      "                                                                         \r"
     ]
    },
    {
     "name": "stdout",
     "output_type": "stream",
     "text": [
      "Epoch 1, Test Accuracy: 0.68\n"
     ]
    },
    {
     "data": {
      "text/plain": "<Figure size 640x480 with 1 Axes>",
      "image/png": "[encoded data removed]"
     },
     "metadata": {},
     "output_type": "display_data"
    }
   ],
   "source": [
    "# Run the patch_attack function\n",
    "patch, metrics = patch_attack(model, train_loader, test_loader, target_class=0, patch_size=(90,1), num_epochs=2)"
   ],
   "metadata": {
    "collapsed": false,
    "ExecuteTime": {
     "end_time": "2024-01-10T11:39:28.252240Z",
     "start_time": "2024-01-10T11:37:19.517577400Z"
    }
   },
   "id": "c4082ece611e7442"
  },
  {
   "cell_type": "code",
   "execution_count": null,
   "outputs": [],
   "source": [
    "#TODO: plot the patch NOT as a 2D image, but as a signal over time (with variable # of channels)"
   ],
   "metadata": {
    "collapsed": false
   },
   "id": "e71bbae91e73d02d"
  }
 ],
 "metadata": {
  "kernelspec": {
   "display_name": "Python 3",
   "language": "python",
   "name": "python3"
  },
  "language_info": {
   "codemirror_mode": {
    "name": "ipython",
    "version": 2
   },
   "file_extension": ".py",
   "mimetype": "text/x-python",
   "name": "python",
   "nbconvert_exporter": "python",
   "pygments_lexer": "ipython2",
   "version": "2.7.6"
  }
 },
 "nbformat": 4,
 "nbformat_minor": 5
}
