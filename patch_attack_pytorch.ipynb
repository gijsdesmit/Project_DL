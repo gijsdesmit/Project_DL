{
 "cells": [
  {
   "cell_type": "code",
   "execution_count": 1,
   "outputs": [],
   "source": [
    "import numpy as np\n",
    "from tqdm import tqdm\n",
    "import matplotlib.pyplot as plt\n",
    "from torch.utils.data import TensorDataset, DataLoader\n",
    "import torch\n",
    "from torch import nn\n",
    "import torch.nn.functional as F\n",
    "from model import PyTorchModel, PyTorchModel_defended"
   ],
   "metadata": {
    "collapsed": false,
    "ExecuteTime": {
     "end_time": "2024-01-13T12:01:21.715712400Z",
     "start_time": "2024-01-13T12:01:16.231929600Z"
    }
   },
   "id": "8327a012518cacdb"
  },
  {
   "cell_type": "code",
   "execution_count": 2,
   "outputs": [],
   "source": [
    "batchSize = 10"
   ],
   "metadata": {
    "collapsed": false,
    "ExecuteTime": {
     "end_time": "2024-01-13T12:01:21.728713600Z",
     "start_time": "2024-01-13T12:01:21.699118400Z"
    }
   },
   "id": "b71b3ba14ff1c6f4"
  },
  {
   "cell_type": "code",
   "execution_count": 3,
   "outputs": [
    {
     "data": {
      "text/plain": "<All keys matched successfully>"
     },
     "execution_count": 3,
     "metadata": {},
     "output_type": "execute_result"
    }
   ],
   "source": [
    "model_defended = PyTorchModel_defended()\n",
    "model_defended.load_state_dict(torch.load('model_pytorch_defended_i3.pth'))\n",
    "\n",
    "model_undefended = PyTorchModel()\n",
    "model_undefended.load_state_dict(torch.load('model_pytorch.pth'))"
   ],
   "metadata": {
    "collapsed": false,
    "ExecuteTime": {
     "end_time": "2024-01-13T12:01:22.410865Z",
     "start_time": "2024-01-13T12:01:22.288867400Z"
    }
   },
   "id": "1f8dbcc25fdadcdf"
  },
  {
   "cell_type": "code",
   "execution_count": 4,
   "outputs": [],
   "source": [
    "testX = np.load('testData.npy')\n",
    "testY = np.load('groundTruth.npy')\n",
    "trainX = np.load('trainData.npy')\n",
    "trainY = np.load('trainLabels.npy')\n",
    "\n",
    "# Convert the training and testing data to PyTorch tensors\n",
    "trainX_torch = torch.from_numpy(np.transpose(trainX, (0, 3, 1, 2))).float()\n",
    "trainY_torch = torch.from_numpy(np.argmax(trainY, axis=1)).long()\n",
    "testX_torch = torch.from_numpy(np.transpose(testX, (0, 3, 1, 2))).float()\n",
    "testY_torch = torch.from_numpy(np.argmax(testY, axis=1)).long()\n",
    "\n",
    "# Create TensorDatasets for training and testing data\n",
    "train_data = TensorDataset(trainX_torch, trainY_torch)\n",
    "test_data = TensorDataset(testX_torch, testY_torch)\n",
    "\n",
    "# Create DataLoaders for training and testing data\n",
    "train_loader = DataLoader(train_data, batch_size=batchSize, shuffle=True)\n",
    "test_loader = DataLoader(test_data, batch_size=batchSize, shuffle=False)"
   ],
   "metadata": {
    "collapsed": false,
    "ExecuteTime": {
     "end_time": "2024-01-13T12:01:23.420491600Z",
     "start_time": "2024-01-13T12:01:23.302480400Z"
    }
   },
   "id": "6d1d215b0881fef5"
  },
  {
   "cell_type": "code",
   "execution_count": 5,
   "outputs": [],
   "source": [
    "# In this notebook we will perform Adversarial Patch attack on the model, by treating a training sample as a 2D image (90 X 3) and placing a patch on it.\n",
    "# We will use the PyTorch framework to implement the attack.\n",
    "\n",
    "device = torch.device(\"cuda:0\" if torch.cuda.is_available() else \"cpu\")"
   ],
   "metadata": {
    "collapsed": false,
    "ExecuteTime": {
     "end_time": "2024-01-13T12:01:24.323751100Z",
     "start_time": "2024-01-13T12:01:24.309482900Z"
    }
   },
   "id": "2e2a1445458e323a"
  },
  {
   "cell_type": "code",
   "execution_count": 6,
   "outputs": [],
   "source": [
    "# Now we will try to attack the network using Adversarial Patch\n",
    "# We will treat each sample as a 2D image and place a patch on it\n",
    "\n",
    "# This function is used to normalize the data\n",
    "def patch_forward(patch):\n",
    "    #patch = (torch.tanh(patch) + 1 - 2 * TENSOR_MEANS) / (2 * TENSOR_STD)\n",
    "    #TODO: is this right way to do this? If not normalised do the line above?\n",
    "    patch = torch.tanh(patch)\n",
    "    return patch"
   ],
   "metadata": {
    "collapsed": false,
    "ExecuteTime": {
     "end_time": "2024-01-13T12:01:25.586859800Z",
     "start_time": "2024-01-13T12:01:25.524862100Z"
    }
   },
   "id": "4d4dbe98956de47c"
  },
  {
   "cell_type": "code",
   "execution_count": 7,
   "outputs": [],
   "source": [
    "def plot_sample(sample):\n",
    "    sample = np.transpose(sample.detach().numpy())\n",
    "    plt.imshow(sample, aspect='auto')\n",
    "    plt.show()"
   ],
   "metadata": {
    "collapsed": false,
    "ExecuteTime": {
     "end_time": "2024-01-13T12:01:27.238234Z",
     "start_time": "2024-01-13T12:01:27.192235300Z"
    }
   },
   "id": "8e5ddcd64567c0ab"
  },
  {
   "cell_type": "code",
   "execution_count": 8,
   "outputs": [],
   "source": [
    "# Place patch in each sample\n",
    "def place_patch(data, patch_train):\n",
    "    #data shape:           torch.Size([10, 1, 90, 3])\n",
    "    #patch shape example:  torch.Size([20, 3])\n",
    "    \n",
    "    if patch_train.shape[1] > 3 or patch_train.shape[0] > data.shape[2]:\n",
    "        print('Patch shape exceeds data shape and is invalid!')\n",
    "        return\n",
    "\n",
    "    for i in range(data.shape[0]): #for each sample\n",
    "        if data.shape[2] != patch_train.shape[0]:\n",
    "            w = np.random.randint(0, data.shape[2] - patch_train.shape[0]) #randomly select a starting point for the patch\n",
    "        else:\n",
    "            w = 0\n",
    "            \n",
    "        if data.shape[3] != patch_train.shape[1]:\n",
    "            h = np.random.randint(0, data.shape[3] - patch_train.shape[1]) #randomly select a starting point for the patch\n",
    "        else:\n",
    "            h = 0\n",
    "            \n",
    "        data[i, :, w:w + patch_train.shape[0], h:h + patch_train.shape[1]] = patch_forward(patch_train)#.reshape(patch_train.shape[0], patch_train.shape[1], 1)\n",
    "    return data"
   ],
   "metadata": {
    "collapsed": true,
    "ExecuteTime": {
     "end_time": "2024-01-13T12:01:27.873238700Z",
     "start_time": "2024-01-13T12:01:27.851239100Z"
    }
   },
   "id": "initial_id"
  },
  {
   "cell_type": "code",
   "execution_count": 9,
   "outputs": [],
   "source": [
    "# Define the eval_patch function\n",
    "def eval_patch(model, p, test_loader, target_class):\n",
    "    model.eval()\n",
    "    tp, counter = 0., 0.\n",
    "    with torch.no_grad():\n",
    "        for sample, labels in tqdm(test_loader, desc=\"Evaluating patch...\", leave=False):\n",
    "            for _ in range(2): # place patch at 2 random locations and average\n",
    "                patched_sample = place_patch(sample, p)\n",
    "                patched_sample = patched_sample.to(device)\n",
    "                labels = labels.to(device)\n",
    "                predictions = model(patched_sample)\n",
    "                tp += torch.logical_and(predictions.argmax(dim=-1) == target_class, labels != target_class).sum()\n",
    "                counter += (labels != target_class).sum()\n",
    "    acc = tp / counter\n",
    "    return acc"
   ],
   "metadata": {
    "collapsed": false,
    "ExecuteTime": {
     "end_time": "2024-01-13T12:01:28.826233Z",
     "start_time": "2024-01-13T12:01:28.820239700Z"
    }
   },
   "id": "b4b7fc7fcc3cf41a"
  },
  {
   "cell_type": "code",
   "execution_count": 10,
   "outputs": [],
   "source": [
    "# Define the patch_attack function # TORCH\n",
    "def patch_attack(model, train_loader, test_loader, target_class, patch_size=(20,3), num_epochs=5):\n",
    "    assert isinstance(patch_size, tuple) and len(patch_size) == 2\n",
    "    patch = nn.Parameter(torch.zeros(patch_size[0], patch_size[1]), requires_grad=True)\n",
    "    optimizer = torch.optim.SGD([patch], lr=1e-1, momentum=0.8) #adam?\n",
    "    loss_module = nn.CrossEntropyLoss()\n",
    "\n",
    "    accs = []\n",
    "    for epoch in range(num_epochs):\n",
    "        t = tqdm(train_loader, leave=False)\n",
    "        for batch, _ in t:\n",
    "            batch = place_patch(batch, patch)\n",
    "            batch = batch.to(device).float()\n",
    "            predictions = model(batch)\n",
    "            labels = torch.zeros(batch.shape[0], device=predictions.device, dtype=torch.long).fill_(target_class)\n",
    "            print(labels.shape, predictions.shape)\n",
    "            loss = loss_module(predictions, labels)\n",
    "            optimizer.zero_grad()\n",
    "            loss.mean().backward()\n",
    "            optimizer.step()\n",
    "            t.set_description(f\"Epoch {epoch}, Loss: {loss.item():4.2f}\")\n",
    "        \n",
    "        acc = eval_patch(model, patch, test_loader, target_class)\n",
    "        accs.append(acc.item())\n",
    "        print(f\"Epoch {epoch}, FOOLING Test Accuracy: {acc.item():4.2f}\")\n",
    "        plot_sample(patch)\n",
    "        \n",
    "    return patch.data, accs"
   ],
   "metadata": {
    "collapsed": false,
    "ExecuteTime": {
     "end_time": "2024-01-13T12:01:29.991554900Z",
     "start_time": "2024-01-13T12:01:29.830553600Z"
    }
   },
   "id": "8bdeed8b01920af"
  },
  {
   "cell_type": "code",
   "execution_count": 11,
   "outputs": [
    {
     "name": "stderr",
     "output_type": "stream",
     "text": [
      "                                                                        \r"
     ]
    },
    {
     "name": "stdout",
     "output_type": "stream",
     "text": [
      "Epoch 0, FOOLING Test Accuracy: 0.64\n"
     ]
    },
    {
     "data": {
      "text/plain": "<Figure size 640x480 with 1 Axes>",
      "image/png": "[encoded data removed]"
     },
     "metadata": {},
     "output_type": "display_data"
    },
    {
     "name": "stderr",
     "output_type": "stream",
     "text": [
      "                                                                        \r"
     ]
    },
    {
     "name": "stdout",
     "output_type": "stream",
     "text": [
      "Epoch 0, FOOLING Test Accuracy: 0.77\n"
     ]
    },
    {
     "data": {
      "text/plain": "<Figure size 640x480 with 1 Axes>",
      "image/png": "[encoded data removed]"
     },
     "metadata": {},
     "output_type": "display_data"
    },
    {
     "name": "stdout",
     "output_type": "stream",
     "text": [
      "Accuracy defended vs. undefended: 0.6382978558540344 vs. 0.7726346850395203\n"
     ]
    }
   ],
   "source": [
    "# Run the patch_attack function\n",
    "patch_def, metrics_def = patch_attack(model_defended, train_loader, test_loader, target_class=0, patch_size=(40,3), num_epochs=1)\n",
    "patch, metrics = patch_attack(model_undefended, train_loader, test_loader, target_class=0, patch_size=(40,3), num_epochs=1)\n",
    "print(f'Fooling accuracy defended vs. undefended: {metrics_def[0]} vs. {metrics[0]}')"
   ],
   "metadata": {
    "collapsed": false,
    "ExecuteTime": {
     "end_time": "2024-01-13T12:06:02.067430100Z",
     "start_time": "2024-01-13T12:01:36.709303500Z"
    }
   },
   "id": "24de43571f61ae9e"
  },
  {
   "cell_type": "code",
   "execution_count": 14,
   "outputs": [
    {
     "name": "stderr",
     "output_type": "stream",
     "text": [
      "                                                                        \r"
     ]
    },
    {
     "name": "stdout",
     "output_type": "stream",
     "text": [
      "Epoch 0, FOOLING Test Accuracy: 0.52\n"
     ]
    },
    {
     "data": {
      "text/plain": "<Figure size 640x480 with 1 Axes>",
      "image/png": "[encoded data removed]"
     },
     "metadata": {},
     "output_type": "display_data"
    },
    {
     "name": "stderr",
     "output_type": "stream",
     "text": [
      "                                                                        \r"
     ]
    },
    {
     "name": "stdout",
     "output_type": "stream",
     "text": [
      "Epoch 0, FOOLING Test Accuracy: 0.60\n"
     ]
    },
    {
     "data": {
      "text/plain": "<Figure size 640x480 with 1 Axes>",
      "image/png": "[encoded data removed]"
     },
     "metadata": {},
     "output_type": "display_data"
    },
    {
     "name": "stdout",
     "output_type": "stream",
     "text": [
      "Accuracy defended vs. undefended: 0.5182968974113464 vs. 0.5997698307037354\n"
     ]
    }
   ],
   "source": [
    "# Run the patch_attack function\n",
    "patch_def, metrics_def = patch_attack(model_defended, train_loader, test_loader, target_class=4, patch_size=(30,3), num_epochs=1)\n",
    "patch, metrics = patch_attack(model_undefended, train_loader, test_loader, target_class=4, patch_size=(30,3), num_epochs=1)\n",
    "\n",
    "print(f'Accuracy defended vs. undefended: {metrics_def[0]} vs. {metrics[0]}')"
   ],
   "metadata": {
    "collapsed": false,
    "ExecuteTime": {
     "end_time": "2024-01-13T12:16:02.561999300Z",
     "start_time": "2024-01-13T12:11:47.870184100Z"
    }
   },
   "id": "ab2b477ed5277cb5"
  },
  {
   "cell_type": "code",
   "execution_count": 11,
   "outputs": [
    {
     "name": "stderr",
     "output_type": "stream",
     "text": [
      "                                                                       \r"
     ]
    },
    {
     "ename": "KeyboardInterrupt",
     "evalue": "",
     "output_type": "error",
     "traceback": [
      "\u001B[1;31m---------------------------------------------------------------------------\u001B[0m",
      "\u001B[1;31mKeyboardInterrupt\u001B[0m                         Traceback (most recent call last)",
      "Cell \u001B[1;32mIn[11], line 2\u001B[0m\n\u001B[0;32m      1\u001B[0m \u001B[38;5;66;03m# Run the patch_attack function\u001B[39;00m\n\u001B[1;32m----> 2\u001B[0m patch_def, metrics_def \u001B[38;5;241m=\u001B[39m \u001B[43mpatch_attack\u001B[49m\u001B[43m(\u001B[49m\u001B[43mmodel_defended\u001B[49m\u001B[43m,\u001B[49m\u001B[43m \u001B[49m\u001B[43mtrain_loader\u001B[49m\u001B[43m,\u001B[49m\u001B[43m \u001B[49m\u001B[43mtest_loader\u001B[49m\u001B[43m,\u001B[49m\u001B[43m \u001B[49m\u001B[43mtarget_class\u001B[49m\u001B[38;5;241;43m=\u001B[39;49m\u001B[38;5;241;43m0\u001B[39;49m\u001B[43m,\u001B[49m\u001B[43m \u001B[49m\u001B[43mpatch_size\u001B[49m\u001B[38;5;241;43m=\u001B[39;49m\u001B[43m(\u001B[49m\u001B[38;5;241;43m90\u001B[39;49m\u001B[43m,\u001B[49m\u001B[38;5;241;43m3\u001B[39;49m\u001B[43m)\u001B[49m\u001B[43m,\u001B[49m\u001B[43m \u001B[49m\u001B[43mnum_epochs\u001B[49m\u001B[38;5;241;43m=\u001B[39;49m\u001B[38;5;241;43m1\u001B[39;49m\u001B[43m)\u001B[49m\n",
      "Cell \u001B[1;32mIn[10], line 18\u001B[0m, in \u001B[0;36mpatch_attack\u001B[1;34m(model, train_loader, test_loader, target_class, patch_size, num_epochs)\u001B[0m\n\u001B[0;32m     16\u001B[0m loss \u001B[38;5;241m=\u001B[39m loss_module(predictions, labels)\n\u001B[0;32m     17\u001B[0m optimizer\u001B[38;5;241m.\u001B[39mzero_grad()\n\u001B[1;32m---> 18\u001B[0m \u001B[43mloss\u001B[49m\u001B[38;5;241;43m.\u001B[39;49m\u001B[43mmean\u001B[49m\u001B[43m(\u001B[49m\u001B[43m)\u001B[49m\u001B[38;5;241;43m.\u001B[39;49m\u001B[43mbackward\u001B[49m\u001B[43m(\u001B[49m\u001B[43m)\u001B[49m\n\u001B[0;32m     19\u001B[0m optimizer\u001B[38;5;241m.\u001B[39mstep()\n\u001B[0;32m     20\u001B[0m t\u001B[38;5;241m.\u001B[39mset_description(\u001B[38;5;124mf\u001B[39m\u001B[38;5;124m\"\u001B[39m\u001B[38;5;124mEpoch \u001B[39m\u001B[38;5;132;01m{\u001B[39;00mepoch\u001B[38;5;132;01m}\u001B[39;00m\u001B[38;5;124m, Loss: \u001B[39m\u001B[38;5;132;01m{\u001B[39;00mloss\u001B[38;5;241m.\u001B[39mitem()\u001B[38;5;132;01m:\u001B[39;00m\u001B[38;5;124m4.2f\u001B[39m\u001B[38;5;132;01m}\u001B[39;00m\u001B[38;5;124m\"\u001B[39m)\n",
      "File \u001B[1;32mE:\\Anaconda\\lib\\site-packages\\torch\\_tensor.py:396\u001B[0m, in \u001B[0;36mTensor.backward\u001B[1;34m(self, gradient, retain_graph, create_graph, inputs)\u001B[0m\n\u001B[0;32m    387\u001B[0m \u001B[38;5;28;01mif\u001B[39;00m has_torch_function_unary(\u001B[38;5;28mself\u001B[39m):\n\u001B[0;32m    388\u001B[0m     \u001B[38;5;28;01mreturn\u001B[39;00m handle_torch_function(\n\u001B[0;32m    389\u001B[0m         Tensor\u001B[38;5;241m.\u001B[39mbackward,\n\u001B[0;32m    390\u001B[0m         (\u001B[38;5;28mself\u001B[39m,),\n\u001B[1;32m   (...)\u001B[0m\n\u001B[0;32m    394\u001B[0m         create_graph\u001B[38;5;241m=\u001B[39mcreate_graph,\n\u001B[0;32m    395\u001B[0m         inputs\u001B[38;5;241m=\u001B[39minputs)\n\u001B[1;32m--> 396\u001B[0m \u001B[43mtorch\u001B[49m\u001B[38;5;241;43m.\u001B[39;49m\u001B[43mautograd\u001B[49m\u001B[38;5;241;43m.\u001B[39;49m\u001B[43mbackward\u001B[49m\u001B[43m(\u001B[49m\u001B[38;5;28;43mself\u001B[39;49m\u001B[43m,\u001B[49m\u001B[43m \u001B[49m\u001B[43mgradient\u001B[49m\u001B[43m,\u001B[49m\u001B[43m \u001B[49m\u001B[43mretain_graph\u001B[49m\u001B[43m,\u001B[49m\u001B[43m \u001B[49m\u001B[43mcreate_graph\u001B[49m\u001B[43m,\u001B[49m\u001B[43m \u001B[49m\u001B[43minputs\u001B[49m\u001B[38;5;241;43m=\u001B[39;49m\u001B[43minputs\u001B[49m\u001B[43m)\u001B[49m\n",
      "File \u001B[1;32mE:\\Anaconda\\lib\\site-packages\\torch\\autograd\\__init__.py:173\u001B[0m, in \u001B[0;36mbackward\u001B[1;34m(tensors, grad_tensors, retain_graph, create_graph, grad_variables, inputs)\u001B[0m\n\u001B[0;32m    168\u001B[0m     retain_graph \u001B[38;5;241m=\u001B[39m create_graph\n\u001B[0;32m    170\u001B[0m \u001B[38;5;66;03m# The reason we repeat same the comment below is that\u001B[39;00m\n\u001B[0;32m    171\u001B[0m \u001B[38;5;66;03m# some Python versions print out the first line of a multi-line function\u001B[39;00m\n\u001B[0;32m    172\u001B[0m \u001B[38;5;66;03m# calls in the traceback and some print out the last line\u001B[39;00m\n\u001B[1;32m--> 173\u001B[0m \u001B[43mVariable\u001B[49m\u001B[38;5;241;43m.\u001B[39;49m\u001B[43m_execution_engine\u001B[49m\u001B[38;5;241;43m.\u001B[39;49m\u001B[43mrun_backward\u001B[49m\u001B[43m(\u001B[49m\u001B[43m  \u001B[49m\u001B[38;5;66;43;03m# Calls into the C++ engine to run the backward pass\u001B[39;49;00m\n\u001B[0;32m    174\u001B[0m \u001B[43m    \u001B[49m\u001B[43mtensors\u001B[49m\u001B[43m,\u001B[49m\u001B[43m \u001B[49m\u001B[43mgrad_tensors_\u001B[49m\u001B[43m,\u001B[49m\u001B[43m \u001B[49m\u001B[43mretain_graph\u001B[49m\u001B[43m,\u001B[49m\u001B[43m \u001B[49m\u001B[43mcreate_graph\u001B[49m\u001B[43m,\u001B[49m\u001B[43m \u001B[49m\u001B[43minputs\u001B[49m\u001B[43m,\u001B[49m\n\u001B[0;32m    175\u001B[0m \u001B[43m    \u001B[49m\u001B[43mallow_unreachable\u001B[49m\u001B[38;5;241;43m=\u001B[39;49m\u001B[38;5;28;43;01mTrue\u001B[39;49;00m\u001B[43m,\u001B[49m\u001B[43m \u001B[49m\u001B[43maccumulate_grad\u001B[49m\u001B[38;5;241;43m=\u001B[39;49m\u001B[38;5;28;43;01mTrue\u001B[39;49;00m\u001B[43m)\u001B[49m\n",
      "\u001B[1;31mKeyboardInterrupt\u001B[0m: "
     ]
    }
   ],
   "source": [
    "# Run the patch_attack function\n",
    "patch_def, metrics_def = patch_attack(model_defended, train_loader, test_loader, target_class=0, patch_size=(90,3), num_epochs=1)\n",
    "#patch, metrics = patch_attack(model_undefended, train_loader, test_loader, target_class=0, patch_size=(90,3), num_epochs=1)\n",
    "\n",
    "#print(f'Accuracy defended vs. undefended: {metrics_def[0]} vs. {metrics[0]}')"
   ],
   "metadata": {
    "collapsed": false,
    "ExecuteTime": {
     "end_time": "2024-01-13T10:33:05.144970700Z",
     "start_time": "2024-01-13T10:32:43.795826Z"
    }
   },
   "id": "cbeed031c55c750f"
  },
  {
   "cell_type": "code",
   "execution_count": 15,
   "outputs": [
    {
     "name": "stderr",
     "output_type": "stream",
     "text": [
      "                                                                       \r"
     ]
    },
    {
     "ename": "KeyboardInterrupt",
     "evalue": "",
     "output_type": "error",
     "traceback": [
      "\u001B[1;31m---------------------------------------------------------------------------\u001B[0m",
      "\u001B[1;31mKeyboardInterrupt\u001B[0m                         Traceback (most recent call last)",
      "Cell \u001B[1;32mIn[15], line 2\u001B[0m\n\u001B[0;32m      1\u001B[0m \u001B[38;5;66;03m# Run the patch_attack function\u001B[39;00m\n\u001B[1;32m----> 2\u001B[0m patch, metrics \u001B[38;5;241m=\u001B[39m \u001B[43mpatch_attack\u001B[49m\u001B[43m(\u001B[49m\u001B[43mmodel_undefended\u001B[49m\u001B[43m,\u001B[49m\u001B[43m \u001B[49m\u001B[43mtrain_loader\u001B[49m\u001B[43m,\u001B[49m\u001B[43m \u001B[49m\u001B[43mtest_loader\u001B[49m\u001B[43m,\u001B[49m\u001B[43m \u001B[49m\u001B[43mtarget_class\u001B[49m\u001B[38;5;241;43m=\u001B[39;49m\u001B[38;5;241;43m0\u001B[39;49m\u001B[43m,\u001B[49m\u001B[43m \u001B[49m\u001B[43mpatch_size\u001B[49m\u001B[38;5;241;43m=\u001B[39;49m\u001B[43m(\u001B[49m\u001B[38;5;241;43m90\u001B[39;49m\u001B[43m,\u001B[49m\u001B[38;5;241;43m3\u001B[39;49m\u001B[43m)\u001B[49m\u001B[43m,\u001B[49m\u001B[43m \u001B[49m\u001B[43mnum_epochs\u001B[49m\u001B[38;5;241;43m=\u001B[39;49m\u001B[38;5;241;43m1\u001B[39;49m\u001B[43m)\u001B[49m\n\u001B[0;32m      4\u001B[0m patch, metrics \u001B[38;5;241m=\u001B[39m patch_attack(model_defended, train_loader, test_loader, target_class\u001B[38;5;241m=\u001B[39m\u001B[38;5;241m0\u001B[39m, patch_size\u001B[38;5;241m=\u001B[39m(\u001B[38;5;241m90\u001B[39m,\u001B[38;5;241m1\u001B[39m), num_epochs\u001B[38;5;241m=\u001B[39m\u001B[38;5;241m2\u001B[39m)\n",
      "Cell \u001B[1;32mIn[10], line 14\u001B[0m, in \u001B[0;36mpatch_attack\u001B[1;34m(model, train_loader, test_loader, target_class, patch_size, num_epochs)\u001B[0m\n\u001B[0;32m     12\u001B[0m batch \u001B[38;5;241m=\u001B[39m place_patch(batch, patch)\n\u001B[0;32m     13\u001B[0m batch \u001B[38;5;241m=\u001B[39m batch\u001B[38;5;241m.\u001B[39mto(device)\u001B[38;5;241m.\u001B[39mfloat()\n\u001B[1;32m---> 14\u001B[0m predictions \u001B[38;5;241m=\u001B[39m \u001B[43mmodel\u001B[49m\u001B[43m(\u001B[49m\u001B[43mbatch\u001B[49m\u001B[43m)\u001B[49m\n\u001B[0;32m     15\u001B[0m labels \u001B[38;5;241m=\u001B[39m torch\u001B[38;5;241m.\u001B[39mzeros(batch\u001B[38;5;241m.\u001B[39mshape[\u001B[38;5;241m0\u001B[39m], device\u001B[38;5;241m=\u001B[39mpredictions\u001B[38;5;241m.\u001B[39mdevice, dtype\u001B[38;5;241m=\u001B[39mtorch\u001B[38;5;241m.\u001B[39mlong)\u001B[38;5;241m.\u001B[39mfill_(target_class)\n\u001B[0;32m     16\u001B[0m loss \u001B[38;5;241m=\u001B[39m loss_module(predictions, labels)\n",
      "File \u001B[1;32mE:\\Anaconda\\lib\\site-packages\\torch\\nn\\modules\\module.py:1130\u001B[0m, in \u001B[0;36mModule._call_impl\u001B[1;34m(self, *input, **kwargs)\u001B[0m\n\u001B[0;32m   1126\u001B[0m \u001B[38;5;66;03m# If we don't have any hooks, we want to skip the rest of the logic in\u001B[39;00m\n\u001B[0;32m   1127\u001B[0m \u001B[38;5;66;03m# this function, and just call forward.\u001B[39;00m\n\u001B[0;32m   1128\u001B[0m \u001B[38;5;28;01mif\u001B[39;00m \u001B[38;5;129;01mnot\u001B[39;00m (\u001B[38;5;28mself\u001B[39m\u001B[38;5;241m.\u001B[39m_backward_hooks \u001B[38;5;129;01mor\u001B[39;00m \u001B[38;5;28mself\u001B[39m\u001B[38;5;241m.\u001B[39m_forward_hooks \u001B[38;5;129;01mor\u001B[39;00m \u001B[38;5;28mself\u001B[39m\u001B[38;5;241m.\u001B[39m_forward_pre_hooks \u001B[38;5;129;01mor\u001B[39;00m _global_backward_hooks\n\u001B[0;32m   1129\u001B[0m         \u001B[38;5;129;01mor\u001B[39;00m _global_forward_hooks \u001B[38;5;129;01mor\u001B[39;00m _global_forward_pre_hooks):\n\u001B[1;32m-> 1130\u001B[0m     \u001B[38;5;28;01mreturn\u001B[39;00m forward_call(\u001B[38;5;241m*\u001B[39m\u001B[38;5;28minput\u001B[39m, \u001B[38;5;241m*\u001B[39m\u001B[38;5;241m*\u001B[39mkwargs)\n\u001B[0;32m   1131\u001B[0m \u001B[38;5;66;03m# Do not call functions when jit is used\u001B[39;00m\n\u001B[0;32m   1132\u001B[0m full_backward_hooks, non_full_backward_hooks \u001B[38;5;241m=\u001B[39m [], []\n",
      "File \u001B[1;32mF:\\Github Repos\\Project_DL\\model.py:42\u001B[0m, in \u001B[0;36mPyTorchModel.forward\u001B[1;34m(self, x)\u001B[0m\n\u001B[0;32m     39\u001B[0m x \u001B[38;5;241m=\u001B[39m \u001B[38;5;28mself\u001B[39m\u001B[38;5;241m.\u001B[39mdropout(x)\n\u001B[0;32m     40\u001B[0m x \u001B[38;5;241m=\u001B[39m x\u001B[38;5;241m.\u001B[39mview(\u001B[38;5;241m-\u001B[39m\u001B[38;5;241m1\u001B[39m, numFilters \u001B[38;5;241m*\u001B[39m ((numOfRows \u001B[38;5;241m-\u001B[39m kernalSize1 \u001B[38;5;241m+\u001B[39m \u001B[38;5;241m1\u001B[39m) \u001B[38;5;241m/\u001B[39m\u001B[38;5;241m/\u001B[39m poolingWindowSz) \u001B[38;5;241m*\u001B[39m (\n\u001B[0;32m     41\u001B[0m             (numOfColumns \u001B[38;5;241m-\u001B[39m kernalSize1 \u001B[38;5;241m+\u001B[39m \u001B[38;5;241m1\u001B[39m) \u001B[38;5;241m/\u001B[39m\u001B[38;5;241m/\u001B[39m poolingWindowSz))\n\u001B[1;32m---> 42\u001B[0m x \u001B[38;5;241m=\u001B[39m F\u001B[38;5;241m.\u001B[39mrelu(\u001B[38;5;28;43mself\u001B[39;49m\u001B[38;5;241;43m.\u001B[39;49m\u001B[43mfc1\u001B[49m\u001B[43m(\u001B[49m\u001B[43mx\u001B[49m\u001B[43m)\u001B[49m)\n\u001B[0;32m     43\u001B[0m x \u001B[38;5;241m=\u001B[39m F\u001B[38;5;241m.\u001B[39mrelu(\u001B[38;5;28mself\u001B[39m\u001B[38;5;241m.\u001B[39mfc2(x))\n\u001B[0;32m     44\u001B[0m x \u001B[38;5;241m=\u001B[39m \u001B[38;5;28mself\u001B[39m\u001B[38;5;241m.\u001B[39mfc3(x)\n",
      "File \u001B[1;32mE:\\Anaconda\\lib\\site-packages\\torch\\nn\\modules\\module.py:1130\u001B[0m, in \u001B[0;36mModule._call_impl\u001B[1;34m(self, *input, **kwargs)\u001B[0m\n\u001B[0;32m   1126\u001B[0m \u001B[38;5;66;03m# If we don't have any hooks, we want to skip the rest of the logic in\u001B[39;00m\n\u001B[0;32m   1127\u001B[0m \u001B[38;5;66;03m# this function, and just call forward.\u001B[39;00m\n\u001B[0;32m   1128\u001B[0m \u001B[38;5;28;01mif\u001B[39;00m \u001B[38;5;129;01mnot\u001B[39;00m (\u001B[38;5;28mself\u001B[39m\u001B[38;5;241m.\u001B[39m_backward_hooks \u001B[38;5;129;01mor\u001B[39;00m \u001B[38;5;28mself\u001B[39m\u001B[38;5;241m.\u001B[39m_forward_hooks \u001B[38;5;129;01mor\u001B[39;00m \u001B[38;5;28mself\u001B[39m\u001B[38;5;241m.\u001B[39m_forward_pre_hooks \u001B[38;5;129;01mor\u001B[39;00m _global_backward_hooks\n\u001B[0;32m   1129\u001B[0m         \u001B[38;5;129;01mor\u001B[39;00m _global_forward_hooks \u001B[38;5;129;01mor\u001B[39;00m _global_forward_pre_hooks):\n\u001B[1;32m-> 1130\u001B[0m     \u001B[38;5;28;01mreturn\u001B[39;00m forward_call(\u001B[38;5;241m*\u001B[39m\u001B[38;5;28minput\u001B[39m, \u001B[38;5;241m*\u001B[39m\u001B[38;5;241m*\u001B[39mkwargs)\n\u001B[0;32m   1131\u001B[0m \u001B[38;5;66;03m# Do not call functions when jit is used\u001B[39;00m\n\u001B[0;32m   1132\u001B[0m full_backward_hooks, non_full_backward_hooks \u001B[38;5;241m=\u001B[39m [], []\n",
      "File \u001B[1;32mE:\\Anaconda\\lib\\site-packages\\torch\\nn\\modules\\linear.py:114\u001B[0m, in \u001B[0;36mLinear.forward\u001B[1;34m(self, input)\u001B[0m\n\u001B[0;32m    113\u001B[0m \u001B[38;5;28;01mdef\u001B[39;00m \u001B[38;5;21mforward\u001B[39m(\u001B[38;5;28mself\u001B[39m, \u001B[38;5;28minput\u001B[39m: Tensor) \u001B[38;5;241m-\u001B[39m\u001B[38;5;241m>\u001B[39m Tensor:\n\u001B[1;32m--> 114\u001B[0m     \u001B[38;5;28;01mreturn\u001B[39;00m \u001B[43mF\u001B[49m\u001B[38;5;241;43m.\u001B[39;49m\u001B[43mlinear\u001B[49m\u001B[43m(\u001B[49m\u001B[38;5;28;43minput\u001B[39;49m\u001B[43m,\u001B[49m\u001B[43m \u001B[49m\u001B[38;5;28;43mself\u001B[39;49m\u001B[38;5;241;43m.\u001B[39;49m\u001B[43mweight\u001B[49m\u001B[43m,\u001B[49m\u001B[43m \u001B[49m\u001B[38;5;28;43mself\u001B[39;49m\u001B[38;5;241;43m.\u001B[39;49m\u001B[43mbias\u001B[49m\u001B[43m)\u001B[49m\n",
      "\u001B[1;31mKeyboardInterrupt\u001B[0m: "
     ]
    }
   ],
   "source": [
    "# Run the patch_attack function\n",
    "patch, metrics = patch_attack(model_defended, train_loader, test_loader, target_class=0, patch_size=(90,1), num_epochs=2)"
   ],
   "metadata": {
    "collapsed": false,
    "ExecuteTime": {
     "end_time": "2024-01-13T10:04:56.174469600Z",
     "start_time": "2024-01-13T10:04:46.668876900Z"
    }
   },
   "id": "c4082ece611e7442"
  },
  {
   "cell_type": "code",
   "execution_count": null,
   "outputs": [],
   "source": [
    "#TODO: plot the patch NOT as a 2D image, but as a signal over time (with variable # of channels)\n",
    "# in an sample as well"
   ],
   "metadata": {
    "collapsed": false
   },
   "id": "e71bbae91e73d02d"
  },
  {
   "cell_type": "code",
   "execution_count": null,
   "outputs": [],
   "source": [
    "#TODO: try to attack a single dimension constantly (not randomly)\n",
    "# --> would be nice if we just replace only x-dimension"
   ],
   "metadata": {
    "collapsed": false
   },
   "id": "8676fcc66f9540da"
  }
 ],
 "metadata": {
  "kernelspec": {
   "display_name": "Python 3",
   "language": "python",
   "name": "python3"
  },
  "language_info": {
   "codemirror_mode": {
    "name": "ipython",
    "version": 2
   },
   "file_extension": ".py",
   "mimetype": "text/x-python",
   "name": "python",
   "nbconvert_exporter": "python",
   "pygments_lexer": "ipython2",
   "version": "2.7.6"
  }
 },
 "nbformat": 4,
 "nbformat_minor": 5
}
