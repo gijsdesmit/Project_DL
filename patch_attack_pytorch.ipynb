{
 "cells": [
  {
   "cell_type": "code",
   "execution_count": 1,
   "outputs": [],
   "source": [
    "import numpy as np\n",
    "from tqdm import tqdm\n",
    "import matplotlib.pyplot as plt\n",
    "from torch.utils.data import TensorDataset, DataLoader\n",
    "import torch\n",
    "from torch import nn\n",
    "import torch.nn.functional as F\n",
    "from model import PyTorchModel, PyTorchModel_defended"
   ],
   "metadata": {
    "collapsed": false,
    "ExecuteTime": {
     "end_time": "2024-01-12T12:12:38.968919300Z",
     "start_time": "2024-01-12T12:12:28.812929400Z"
    }
   },
   "id": "8327a012518cacdb"
  },
  {
   "cell_type": "code",
   "execution_count": 2,
   "outputs": [],
   "source": [
    "batchSize = 10"
   ],
   "metadata": {
    "collapsed": false,
    "ExecuteTime": {
     "end_time": "2024-01-12T12:12:38.986917200Z",
     "start_time": "2024-01-12T12:12:38.972919600Z"
    }
   },
   "id": "b71b3ba14ff1c6f4"
  },
  {
   "cell_type": "code",
   "execution_count": 3,
   "outputs": [
    {
     "data": {
      "text/plain": "<All keys matched successfully>"
     },
     "execution_count": 3,
     "metadata": {},
     "output_type": "execute_result"
    }
   ],
   "source": [
    "model_defended = PyTorchModel_defended()\n",
    "model_defended.load_state_dict(torch.load('model_pytorch_defended.pth'))\n",
    "\n",
    "model_undefended = PyTorchModel()\n",
    "model_undefended.load_state_dict(torch.load('model_pytorch.pth'))"
   ],
   "metadata": {
    "collapsed": false,
    "ExecuteTime": {
     "end_time": "2024-01-12T12:12:40.459357300Z",
     "start_time": "2024-01-12T12:12:40.232995900Z"
    }
   },
   "id": "1f8dbcc25fdadcdf"
  },
  {
   "cell_type": "code",
   "execution_count": 4,
   "outputs": [],
   "source": [
    "testX = np.load('testData.npy')\n",
    "testY = np.load('groundTruth.npy')\n",
    "trainX = np.load('trainData.npy')\n",
    "trainY = np.load('trainLabels.npy')\n",
    "\n",
    "# Convert the training and testing data to PyTorch tensors\n",
    "trainX_torch = torch.from_numpy(np.transpose(trainX, (0, 3, 1, 2))).float()\n",
    "trainY_torch = torch.from_numpy(np.argmax(trainY, axis=1)).long()\n",
    "testX_torch = torch.from_numpy(np.transpose(testX, (0, 3, 1, 2))).float()\n",
    "testY_torch = torch.from_numpy(np.argmax(testY, axis=1)).long()\n",
    "\n",
    "# Create TensorDatasets for training and testing data\n",
    "train_data = TensorDataset(trainX_torch, trainY_torch)\n",
    "test_data = TensorDataset(testX_torch, testY_torch)\n",
    "\n",
    "# Create DataLoaders for training and testing data\n",
    "train_loader = DataLoader(train_data, batch_size=batchSize, shuffle=True)\n",
    "test_loader = DataLoader(test_data, batch_size=batchSize, shuffle=False)"
   ],
   "metadata": {
    "collapsed": false,
    "ExecuteTime": {
     "end_time": "2024-01-12T12:12:41.927307300Z",
     "start_time": "2024-01-12T12:12:41.749936700Z"
    }
   },
   "id": "6d1d215b0881fef5"
  },
  {
   "cell_type": "code",
   "execution_count": 5,
   "outputs": [],
   "source": [
    "# In this notebook we will perform Adversarial Patch attack on the model, by treating a training sample as a 2D image (90 X 3) and placing a patch on it.\n",
    "# We will use the PyTorch framework to implement the attack.\n",
    "\n",
    "device = torch.device(\"cuda:0\" if torch.cuda.is_available() else \"cpu\")"
   ],
   "metadata": {
    "collapsed": false,
    "ExecuteTime": {
     "end_time": "2024-01-12T12:12:42.459897900Z",
     "start_time": "2024-01-12T12:12:42.446895800Z"
    }
   },
   "id": "2e2a1445458e323a"
  },
  {
   "cell_type": "code",
   "execution_count": 6,
   "outputs": [],
   "source": [
    "# Now we will try to attack the network using Adversarial Patch\n",
    "# We will treat each sample as a 2D image and place a patch on it\n",
    "\n",
    "# This function is used to normalize the data\n",
    "def patch_forward(patch):\n",
    "    #patch = (torch.tanh(patch) + 1 - 2 * TENSOR_MEANS) / (2 * TENSOR_STD)\n",
    "    #TODO: is this right way to do this? If not normalised do the line above?\n",
    "    patch = torch.tanh(patch)\n",
    "    return patch"
   ],
   "metadata": {
    "collapsed": false,
    "ExecuteTime": {
     "end_time": "2024-01-12T12:12:43.500829900Z",
     "start_time": "2024-01-12T12:12:43.467834400Z"
    }
   },
   "id": "4d4dbe98956de47c"
  },
  {
   "cell_type": "code",
   "execution_count": 7,
   "outputs": [],
   "source": [
    "def plot_sample(sample):\n",
    "    sample = np.transpose(sample.detach().numpy())\n",
    "    plt.imshow(sample, aspect='auto')\n",
    "    plt.show()"
   ],
   "metadata": {
    "collapsed": false,
    "ExecuteTime": {
     "end_time": "2024-01-12T12:12:44.129026400Z",
     "start_time": "2024-01-12T12:12:44.115026800Z"
    }
   },
   "id": "8e5ddcd64567c0ab"
  },
  {
   "cell_type": "code",
   "execution_count": 8,
   "outputs": [],
   "source": [
    "# Place patch in each sample\n",
    "def place_patch(data, patch_train):\n",
    "    #data shape:           torch.Size([10, 1, 90, 3])\n",
    "    #patch shape example:  torch.Size([20, 3])\n",
    "    \n",
    "    if patch_train.shape[1] > 3 or patch_train.shape[0] > data.shape[2]:\n",
    "        print('Patch shape exceeds data shape and is invalid!')\n",
    "        return\n",
    "\n",
    "    for i in range(data.shape[0]): #for each sample\n",
    "        if data.shape[2] != patch_train.shape[0]:\n",
    "            w = np.random.randint(0, data.shape[2] - patch_train.shape[0]) #randomly select a starting point for the patch\n",
    "        else:\n",
    "            w = 0\n",
    "            \n",
    "        if data.shape[3] != patch_train.shape[1]:\n",
    "            h = np.random.randint(0, data.shape[3] - patch_train.shape[1]) #randomly select a starting point for the patch\n",
    "        else:\n",
    "            h = 0\n",
    "            \n",
    "        data[i, :, w:w + patch_train.shape[0], h:h + patch_train.shape[1]] = patch_forward(patch_train)#.reshape(patch_train.shape[0], patch_train.shape[1], 1)\n",
    "    return data"
   ],
   "metadata": {
    "collapsed": true,
    "ExecuteTime": {
     "end_time": "2024-01-12T12:12:44.460767600Z",
     "start_time": "2024-01-12T12:12:44.444768900Z"
    }
   },
   "id": "initial_id"
  },
  {
   "cell_type": "code",
   "execution_count": 9,
   "outputs": [],
   "source": [
    "# Define the eval_patch function\n",
    "def eval_patch(model, p, test_loader, target_class):\n",
    "    model.eval()\n",
    "    tp, counter = 0., 0.\n",
    "    with torch.no_grad():\n",
    "        for sample, labels in tqdm(test_loader, desc=\"Evaluating patch...\", leave=False):\n",
    "            for _ in range(2): # place patch at 2 random locations and average\n",
    "                patched_sample = place_patch(sample, p)\n",
    "                patched_sample = patched_sample.to(device)\n",
    "                labels = labels.to(device)\n",
    "                predictions = model(patched_sample)\n",
    "                tp += torch.logical_and(predictions.argmax(dim=-1) == target_class, labels != target_class).sum()\n",
    "                counter += (labels != target_class).sum()\n",
    "    acc = tp / counter\n",
    "    return acc"
   ],
   "metadata": {
    "collapsed": false,
    "ExecuteTime": {
     "end_time": "2024-01-12T12:12:44.838297500Z",
     "start_time": "2024-01-12T12:12:44.827296800Z"
    }
   },
   "id": "b4b7fc7fcc3cf41a"
  },
  {
   "cell_type": "code",
   "execution_count": 10,
   "outputs": [],
   "source": [
    "# Define the patch_attack function # TORCH\n",
    "def patch_attack(model, train_loader, test_loader, target_class, patch_size=(20,3), num_epochs=5):\n",
    "    assert isinstance(patch_size, tuple) and len(patch_size) == 2\n",
    "    patch = nn.Parameter(torch.zeros(patch_size[0], patch_size[1]), requires_grad=True)\n",
    "    optimizer = torch.optim.SGD([patch], lr=1e-1, momentum=0.8) #adam?\n",
    "    loss_module = nn.CrossEntropyLoss()\n",
    "\n",
    "    accs = []\n",
    "    for epoch in range(num_epochs):\n",
    "        t = tqdm(train_loader, leave=False)\n",
    "        for batch, _ in t:\n",
    "            batch = place_patch(batch, patch)\n",
    "            batch = batch.to(device).float()\n",
    "            predictions = model(batch)\n",
    "            labels = torch.zeros(batch.shape[0], device=predictions.device, dtype=torch.long).fill_(target_class)\n",
    "            loss = loss_module(predictions, labels)\n",
    "            optimizer.zero_grad()\n",
    "            loss.mean().backward()\n",
    "            optimizer.step()\n",
    "            t.set_description(f\"Epoch {epoch}, Loss: {loss.item():4.2f}\")\n",
    "        \n",
    "        acc = eval_patch(model, patch, test_loader, target_class)\n",
    "        accs.append(acc.item())\n",
    "        print(f\"Epoch {epoch}, FOOLING Test Accuracy: {acc.item():4.2f}\")\n",
    "        plot_sample(patch)\n",
    "        \n",
    "    return patch.data, accs"
   ],
   "metadata": {
    "collapsed": false,
    "ExecuteTime": {
     "end_time": "2024-01-12T12:12:46.713400400Z",
     "start_time": "2024-01-12T12:12:46.691598Z"
    }
   },
   "id": "8bdeed8b01920af"
  },
  {
   "cell_type": "code",
   "execution_count": 11,
   "outputs": [
    {
     "name": "stderr",
     "output_type": "stream",
     "text": [
      "                                                                         \r"
     ]
    },
    {
     "name": "stdout",
     "output_type": "stream",
     "text": [
      "Epoch 0, FOOLING Test Accuracy: 0.02\n"
     ]
    },
    {
     "data": {
      "text/plain": "<Figure size 640x480 with 1 Axes>",
      "image/png": "[encoded data removed]"
     },
     "metadata": {},
     "output_type": "display_data"
    }
   ],
   "source": [
    "# Run the patch_attack function\n",
    "patch, metrics = patch_attack(model_defended, train_loader, test_loader, target_class=2, patch_size=(40,3), num_epochs=1)"
   ],
   "metadata": {
    "collapsed": false,
    "ExecuteTime": {
     "end_time": "2024-01-12T12:15:11.299977800Z",
     "start_time": "2024-01-12T12:12:56.405425200Z"
    }
   },
   "id": "24de43571f61ae9e"
  },
  {
   "cell_type": "code",
   "execution_count": 11,
   "outputs": [
    {
     "name": "stderr",
     "output_type": "stream",
     "text": [
      "                                                                        \r"
     ]
    },
    {
     "name": "stdout",
     "output_type": "stream",
     "text": [
      "Epoch 0, FOOLING Test Accuracy: 0.04\n"
     ]
    },
    {
     "data": {
      "text/plain": "<Figure size 640x480 with 1 Axes>",
      "image/png": "[encoded data removed]"
     },
     "metadata": {},
     "output_type": "display_data"
    }
   ],
   "source": [
    "# Run the patch_attack function\n",
    "patch, metrics = patch_attack(model_defended, train_loader, test_loader, target_class=1, patch_size=(30,3), num_epochs=1)"
   ],
   "metadata": {
    "collapsed": false,
    "ExecuteTime": {
     "end_time": "2024-01-12T12:04:01.980030200Z",
     "start_time": "2024-01-12T11:57:31.896636100Z"
    }
   },
   "id": "ab2b477ed5277cb5"
  },
  {
   "cell_type": "code",
   "execution_count": 26,
   "outputs": [
    {
     "name": "stderr",
     "output_type": "stream",
     "text": [
      "                                                                         \r"
     ]
    },
    {
     "name": "stdout",
     "output_type": "stream",
     "text": [
      "Epoch 0, Test Accuracy: 0.69\n"
     ]
    },
    {
     "data": {
      "text/plain": "<Figure size 640x480 with 1 Axes>",
      "image/png": "[encoded data removed]"
     },
     "metadata": {},
     "output_type": "display_data"
    },
    {
     "name": "stderr",
     "output_type": "stream",
     "text": [
      "                                                                         \r"
     ]
    },
    {
     "name": "stdout",
     "output_type": "stream",
     "text": [
      "Epoch 1, Test Accuracy: 0.68\n"
     ]
    },
    {
     "data": {
      "text/plain": "<Figure size 640x480 with 1 Axes>",
      "image/png": "[encoded data removed]"
     },
     "metadata": {},
     "output_type": "display_data"
    }
   ],
   "source": [
    "# Run the patch_attack function\n",
    "patch, metrics = patch_attack(model_defended, train_loader, test_loader, target_class=0, patch_size=(90,1), num_epochs=2)"
   ],
   "metadata": {
    "collapsed": false,
    "ExecuteTime": {
     "end_time": "2024-01-10T11:39:28.252240Z",
     "start_time": "2024-01-10T11:37:19.517577400Z"
    }
   },
   "id": "c4082ece611e7442"
  },
  {
   "cell_type": "code",
   "execution_count": null,
   "outputs": [],
   "source": [
    "#TODO: plot the patch NOT as a 2D image, but as a signal over time (with variable # of channels)\n",
    "# in an sample as well"
   ],
   "metadata": {
    "collapsed": false
   },
   "id": "e71bbae91e73d02d"
  },
  {
   "cell_type": "code",
   "execution_count": null,
   "outputs": [],
   "source": [
    "#TODO: try to attack a single dimension constantly (not randomly)\n",
    "# --> would be nice if we just replace only x-dimension"
   ],
   "metadata": {
    "collapsed": false
   },
   "id": "8676fcc66f9540da"
  }
 ],
 "metadata": {
  "kernelspec": {
   "display_name": "Python 3",
   "language": "python",
   "name": "python3"
  },
  "language_info": {
   "codemirror_mode": {
    "name": "ipython",
    "version": 2
   },
   "file_extension": ".py",
   "mimetype": "text/x-python",
   "name": "python",
   "nbconvert_exporter": "python",
   "pygments_lexer": "ipython2",
   "version": "2.7.6"
  }
 },
 "nbformat": 4,
 "nbformat_minor": 5
}
