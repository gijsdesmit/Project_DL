{
 "cells": [
  {
   "cell_type": "code",
   "execution_count": 1,
   "id": "8327a012518cacdb",
   "metadata": {
    "ExecuteTime": {
     "end_time": "2024-01-13T12:01:21.715712400Z",
     "start_time": "2024-01-13T12:01:16.231929600Z"
    },
    "collapsed": false,
    "jupyter": {
     "outputs_hidden": false
    }
   },
   "outputs": [],
   "source": [
    "import numpy as np\n",
    "import os\n",
    "import pandas as pd\n",
    "from tqdm import tqdm\n",
    "import matplotlib.pyplot as plt\n",
    "from torch.utils.data import TensorDataset, DataLoader\n",
    "import torch\n",
    "from torch import nn\n",
    "import torch.nn.functional as F\n",
    "from model import PyTorchModel, PyTorchModel_defended"
   ]
  },
  {
   "cell_type": "code",
   "execution_count": 2,
   "id": "72237409-e3ef-4bce-82a3-d077f01e401e",
   "metadata": {},
   "outputs": [],
   "source": [
    "import datetime\n",
    "from collections import Counter\n",
    "from imblearn.over_sampling import RandomOverSampler\n",
    "import sklearn"
   ]
  },
  {
   "cell_type": "code",
   "execution_count": 3,
   "id": "b71b3ba14ff1c6f4",
   "metadata": {
    "ExecuteTime": {
     "end_time": "2024-01-13T12:01:21.728713600Z",
     "start_time": "2024-01-13T12:01:21.699118400Z"
    },
    "collapsed": false,
    "jupyter": {
     "outputs_hidden": false
    }
   },
   "outputs": [],
   "source": [
    "batchSize = 10"
   ]
  },
  {
   "cell_type": "code",
   "execution_count": 4,
   "id": "2e2a1445458e323a",
   "metadata": {
    "ExecuteTime": {
     "end_time": "2024-01-13T12:01:24.323751100Z",
     "start_time": "2024-01-13T12:01:24.309482900Z"
    },
    "collapsed": false,
    "jupyter": {
     "outputs_hidden": false
    }
   },
   "outputs": [],
   "source": [
    "# In this notebook we will perform Adversarial Patch attack on the model, by treating a training sample as a 2D image (90 X 3) and placing a patch on it.\n",
    "# We will use the PyTorch framework to implement the attack.\n",
    "\n",
    "device = torch.device(\"cuda:0\" if torch.cuda.is_available() else \"cpu\")"
   ]
  },
  {
   "cell_type": "code",
   "execution_count": 5,
   "id": "c204190e-80e6-4a6c-8dbe-99569aa423e3",
   "metadata": {},
   "outputs": [
    {
     "data": {
      "text/plain": [
       "True"
      ]
     },
     "execution_count": 5,
     "metadata": {},
     "output_type": "execute_result"
    }
   ],
   "source": [
    "torch.cuda.is_available()"
   ]
  },
  {
   "cell_type": "code",
   "execution_count": 6,
   "id": "1f8dbcc25fdadcdf",
   "metadata": {
    "ExecuteTime": {
     "end_time": "2024-01-13T12:01:22.410865Z",
     "start_time": "2024-01-13T12:01:22.288867400Z"
    },
    "collapsed": false,
    "jupyter": {
     "outputs_hidden": false
    }
   },
   "outputs": [
    {
     "data": {
      "text/plain": [
       "<All keys matched successfully>"
      ]
     },
     "execution_count": 6,
     "metadata": {},
     "output_type": "execute_result"
    }
   ],
   "source": [
    "model_defended = PyTorchModel_defended()\n",
    "model_defended.load_state_dict(torch.load('model_pytorch_defended_balanced_30ep_2.pth'))\n",
    "\n",
    "model_undefended = PyTorchModel()\n",
    "model_undefended.load_state_dict(torch.load('model_pytorch_balanced.pth'))"
   ]
  },
  {
   "cell_type": "code",
   "execution_count": 7,
   "id": "75755006-2ea1-41e9-86f5-2c640467f4c3",
   "metadata": {},
   "outputs": [],
   "source": [
    "model_defended = model_defended.to(device)\n",
    "model_undefended = model_undefended.to(device)"
   ]
  },
  {
   "cell_type": "code",
   "execution_count": 8,
   "id": "6d1d215b0881fef5",
   "metadata": {
    "ExecuteTime": {
     "end_time": "2024-01-13T12:01:23.420491600Z",
     "start_time": "2024-01-13T12:01:23.302480400Z"
    },
    "collapsed": false,
    "jupyter": {
     "outputs_hidden": false
    }
   },
   "outputs": [],
   "source": [
    "testX = np.load('testData.npy')\n",
    "testY = np.load('groundTruth.npy')\n",
    "trainX = np.load('trainData_balanced.npy')\n",
    "trainY = np.load('trainLabels_balanced.npy')\n",
    "\n",
    "# Convert the training and testing data to PyTorch tensors\n",
    "trainX_torch = torch.from_numpy(np.transpose(trainX, (0, 3, 1, 2))).float()\n",
    "trainY_torch = torch.from_numpy(np.argmax(trainY, axis=1)).long()\n",
    "testX_torch = torch.from_numpy(np.transpose(testX, (0, 3, 1, 2))).float()\n",
    "testY_torch = torch.from_numpy(np.argmax(testY, axis=1)).long()\n",
    "\n",
    "# Create TensorDatasets for training and testing data\n",
    "train_data = TensorDataset(trainX_torch, trainY_torch)\n",
    "test_data = TensorDataset(testX_torch, testY_torch)\n",
    "\n",
    "# Create DataLoaders for training and testing data\n",
    "train_loader = DataLoader(train_data, batch_size=batchSize, shuffle=True)\n",
    "test_loader = DataLoader(test_data, batch_size=batchSize, shuffle=False)"
   ]
  },
  {
   "cell_type": "code",
   "execution_count": 9,
   "id": "2c7ab609-1ae8-40a1-aa62-bef026dc0cc5",
   "metadata": {},
   "outputs": [
    {
     "data": {
      "text/plain": [
       "'\\nthis was to oversample the training data for the HAR.py - \\nand this is then also used here for training to create patches\\nbut it is not needed now since the data is generated\\n'"
      ]
     },
     "execution_count": 9,
     "metadata": {},
     "output_type": "execute_result"
    }
   ],
   "source": [
    "\"\"\"\n",
    "this was to oversample the training data for the HAR.py - \n",
    "and this is then also used here for training to create patches\n",
    "but it is not needed now since the data is generated\n",
    "\"\"\"\n",
    "\n",
    "# # make one hot input ordinal\n",
    "# trainY_ordinal = np.argmax(trainY, axis=1)\n",
    "\n",
    "# # reshape signals to be 2dimensional, because this is required for oversampling\n",
    "# trainX_flat = trainX.reshape(trainX.shape[0], -1)\n",
    "\n",
    "# oversample = RandomOverSampler(sampling_strategy='auto')\n",
    "# trainX_flat_bal, trainY_bal = oversample.fit_resample(trainX_flat, trainY_ordinal)\n",
    "\n",
    "# # convert signal back to original shape\n",
    "# trainX_bal = trainX_flat_bal.reshape(trainX_flat_bal.shape[0], 90, 3, 1)\n",
    "\n",
    "# # make classes one hot encoded again\n",
    "# trainY_bal = np.eye(6)[trainY_bal]\n",
    "\n",
    "# np.save('trainData_balanced.npy', trainX_bal)\n",
    "# np.save('trainLabels_balanced.npy', trainY_bal)"
   ]
  },
  {
   "cell_type": "code",
   "execution_count": 10,
   "id": "4d4dbe98956de47c",
   "metadata": {
    "ExecuteTime": {
     "end_time": "2024-01-13T12:01:25.586859800Z",
     "start_time": "2024-01-13T12:01:25.524862100Z"
    },
    "collapsed": false,
    "jupyter": {
     "outputs_hidden": false
    }
   },
   "outputs": [],
   "source": [
    "# Now we will try to attack the network using Adversarial Patch\n",
    "# We will treat each sample as a 2D image and place a patch on it\n",
    "\n",
    "# This function is used to normalize the data\n",
    "def patch_forward(patch):\n",
    "    #patch = (torch.tanh(patch) + 1 - 2 * TENSOR_MEANS) / (2 * TENSOR_STD)\n",
    "    #TODO: is this right way to do this? If not normalised do the line above?\n",
    "    patch = torch.tanh(patch)\n",
    "    return patch"
   ]
  },
  {
   "cell_type": "code",
   "execution_count": 11,
   "id": "8e5ddcd64567c0ab",
   "metadata": {
    "ExecuteTime": {
     "end_time": "2024-01-13T12:01:27.238234Z",
     "start_time": "2024-01-13T12:01:27.192235300Z"
    },
    "collapsed": false,
    "jupyter": {
     "outputs_hidden": false
    }
   },
   "outputs": [],
   "source": [
    "def plot_sample(sample):\n",
    "    sample = np.transpose(sample.detach().numpy())\n",
    "    plt.imshow(sample, aspect='auto')\n",
    "    plt.show()"
   ]
  },
  {
   "cell_type": "code",
   "execution_count": 12,
   "id": "initial_id",
   "metadata": {
    "ExecuteTime": {
     "end_time": "2024-01-13T12:01:27.873238700Z",
     "start_time": "2024-01-13T12:01:27.851239100Z"
    }
   },
   "outputs": [],
   "source": [
    "# Place patch in each sample\n",
    "def place_patch(data, patch_train):\n",
    "    #data shape:           torch.Size([10, 1, 90, 3])\n",
    "    #patch shape example:  torch.Size([20, 3])\n",
    "    \n",
    "    if patch_train.shape[1] > 3 or patch_train.shape[0] > data.shape[2]:\n",
    "        print('Patch shape exceeds data shape and is invalid!')\n",
    "        return\n",
    "\n",
    "    for i in range(data.shape[0]): #for each sample\n",
    "        if data.shape[2] != patch_train.shape[0]:\n",
    "            w = np.random.randint(0, data.shape[2] - patch_train.shape[0]) #randomly select a starting point for the patch\n",
    "        else:\n",
    "            w = 0\n",
    "            \n",
    "        if data.shape[3] != patch_train.shape[1]:\n",
    "            h = np.random.randint(0, data.shape[3] - patch_train.shape[1]) #randomly select a starting point for the patch\n",
    "        else:\n",
    "            h = 0\n",
    "            \n",
    "        data[i, :, w:w + patch_train.shape[0], h:h + patch_train.shape[1]] = patch_forward(patch_train)#.reshape(patch_train.shape[0], patch_train.shape[1], 1)\n",
    "    return data"
   ]
  },
  {
   "cell_type": "code",
   "execution_count": 13,
   "id": "b4b7fc7fcc3cf41a",
   "metadata": {
    "ExecuteTime": {
     "end_time": "2024-01-13T12:01:28.826233Z",
     "start_time": "2024-01-13T12:01:28.820239700Z"
    },
    "collapsed": false,
    "jupyter": {
     "outputs_hidden": false
    }
   },
   "outputs": [],
   "source": [
    "# Define the eval_patch function\n",
    "def eval_patch(model, p, test_loader, target_class):\n",
    "    model.eval()\n",
    "    tp, counter = 0., 0.\n",
    "    with torch.no_grad():\n",
    "        for sample, labels in tqdm(test_loader, desc=\"Evaluating patch...\", leave=False):\n",
    "            for _ in range(2): # place patch at 2 random locations and average\n",
    "                patched_sample = place_patch(sample, p)\n",
    "                patched_sample = patched_sample.to(device)\n",
    "                labels = labels.to(device)\n",
    "                predictions = model(patched_sample)\n",
    "                tp += torch.logical_and(predictions.argmax(dim=-1) == target_class, labels != target_class).sum()\n",
    "                counter += (labels != target_class).sum()\n",
    "    acc = tp / counter\n",
    "    return acc"
   ]
  },
  {
   "cell_type": "code",
   "execution_count": 14,
   "id": "8bdeed8b01920af",
   "metadata": {
    "ExecuteTime": {
     "end_time": "2024-01-13T12:01:29.991554900Z",
     "start_time": "2024-01-13T12:01:29.830553600Z"
    },
    "collapsed": false,
    "jupyter": {
     "outputs_hidden": false
    }
   },
   "outputs": [],
   "source": [
    "# Define the patch_attack function # TORCH\n",
    "def patch_attack(model, train_loader, test_loader, target_class, patch_size=(20,3), num_epochs=5):\n",
    "    assert isinstance(patch_size, tuple) and len(patch_size) == 2\n",
    "    patch = nn.Parameter(torch.zeros(patch_size[0], patch_size[1]), requires_grad=True)\n",
    "    optimizer = torch.optim.SGD([patch], lr=1e-1, momentum=0.8) #adam?\n",
    "    loss_module = nn.CrossEntropyLoss()\n",
    "\n",
    "    accs = []\n",
    "    for epoch in range(num_epochs):\n",
    "        for batch, t_labels in train_loader:               \n",
    "            batch = place_patch(batch, patch)\n",
    "            batch = batch.to(device).float()\n",
    "            predictions = model(batch)\n",
    "            labels = torch.zeros(batch.shape[0], device=predictions.device, dtype=torch.long).fill_(target_class)\n",
    "            loss = loss_module(predictions, labels)\n",
    "            optimizer.zero_grad()\n",
    "            loss.mean().backward()\n",
    "            optimizer.step()\n",
    "        print(f\"Epoch {epoch}, Loss: {loss.item():4.2f}\", end= \"\\t\")\n",
    "        \n",
    "        \n",
    "    return patch.data, accs"
   ]
  },
  {
   "cell_type": "code",
   "execution_count": 15,
   "id": "95496ea4-fdcb-4432-9100-d4973934c382",
   "metadata": {},
   "outputs": [],
   "source": [
    "patch_dir = \"patches_3\"\n",
    "\n",
    "def make_patches(model, trainloader, test_loader, patch_size, num_epochs, patches_target_class):\n",
    "    start_time = datetime.datetime.now()\n",
    "    patch_size_str = f\"size_{patch_size[0]}_{patch_size[1]}\"\n",
    "    for target_class in patches_target_class.keys():\n",
    "        for patch_num in range(patches_target_class[target_class]):\n",
    "            print(f\"TARGET CLASS: {target_class} patch number {patch_num}\")\n",
    "            patch_data, acc = patch_attack(model, train_loader, test_loader, target_class, patch_size, num_epochs)\n",
    "            patch_file_name = f\"class_{target_class}_patch_{patch_num}_{patch_size_str}_ep_{num_epochs}.pt\"\n",
    "            # print(patch_file_name)\n",
    "            torch.save(patch_data, os.path.join(patch_dir, patch_file_name))\n",
    "            \n",
    "            cur_time = datetime.datetime.now()\n",
    "            print(patch_file_name, cur_time)\n",
    "            print(f\"elapsed: {cur_time - start_time}\")\n"
   ]
  },
  {
   "cell_type": "code",
   "execution_count": 20,
   "id": "0e2b01d6-773f-41d9-ae69-73ab6b0a7a08",
   "metadata": {},
   "outputs": [
    {
     "data": {
      "text/plain": [
       "'variations:\\n\\npatch size - 10x3, 20x3, \\n            10x1, 20x1, 10x2, 20x2, \\n            1x90, 2x90, 3x90, \\n            3x45, 2x45, 1x45\\nepochs trained: 5, 15, 40 (with early stopping?)\\nbatch size: 10, 20, 60\\n'"
      ]
     },
     "execution_count": 20,
     "metadata": {},
     "output_type": "execute_result"
    }
   ],
   "source": [
    "\"\"\"variations:\n",
    "\n",
    "patch size - 10x3, 20x3, \n",
    "            10x1, 20x1, 10x2, 20x2, \n",
    "            1x90, 2x90, 3x90, \n",
    "            3x45, 2x45, 1x45\n",
    "epochs trained: 5, 15, 40 (with early stopping?)\n",
    "batch size: 10, 20, 60\n",
    "\"\"\""
   ]
  },
  {
   "cell_type": "code",
   "execution_count": null,
   "id": "cee4381d-57e8-46fb-bd74-02f4bc26a8e1",
   "metadata": {},
   "outputs": [
    {
     "name": "stdout",
     "output_type": "stream",
     "text": [
      "TARGET CLASS: 0 patch number 0\n"
     ]
    },
    {
     "name": "stderr",
     "output_type": "stream",
     "text": [
      "  0%|          | 0/4520 [00:00<?, ?it/s]/media/abhishek/data/college/thesis/thesis_with_dr_duc/conda_envs/dlpruning5/lib/python3.9/site-packages/torch/nn/modules/conv.py:459: UserWarning: Applied workaround for CuDNN issue, install nvrtc.so (Triggered internally at /opt/conda/conda-bld/pytorch_1682343997789/work/aten/src/ATen/native/cudnn/Conv_v8.cpp:80.)\n",
      "  return F.conv2d(input, weight, bias, self.stride,\n",
      "Epoch 9, Loss: 77.23:  10%|█         | 461/4520 [00:01<00:15, 258.91it/s]  "
     ]
    }
   ],
   "source": [
    "target_patch_class = {0: 5, 1: 5, 2: 5, 3: 5, 4: 5, 5: 5}\n",
    "make_patches(model_undefended, train_loader, test_loader, patch_size = (10,3), num_epochs=10, patches_target_class=target_patch_class)"
   ]
  },
  {
   "cell_type": "code",
   "execution_count": null,
   "id": "48596cd8-1641-4688-825f-4152eb20ea85",
   "metadata": {},
   "outputs": [],
   "source": [
    "target_patch_class = {0: 5, 1: 5, 2: 5, 3: 5, 4: 5, 5: 5}\n",
    "make_patches(model_undefended, train_loader, test_loader, patch_size = (20,3), num_epochs=10, patches_target_class=target_patch_class)"
   ]
  },
  {
   "cell_type": "code",
   "execution_count": null,
   "id": "5512f422-cba2-459b-a709-c8480c369bee",
   "metadata": {},
   "outputs": [],
   "source": [
    "target_patch_class = {0:5, 1: 5, 2: 5, 3: 5, 4: 5, 5: 5}\n",
    "make_patches(model_undefended, train_loader, test_loader, patch_size = (30,3), num_epochs=10, patches_target_class=target_patch_class)"
   ]
  },
  {
   "cell_type": "code",
   "execution_count": null,
   "id": "3f91fdf1-f28e-48f2-81bc-6e51d79bb125",
   "metadata": {},
   "outputs": [],
   "source": []
  },
  {
   "cell_type": "code",
   "execution_count": 16,
   "id": "634f1056-73a6-4dd6-9e16-7a497327917b",
   "metadata": {},
   "outputs": [],
   "source": [
    "patch_list = os.listdir(\"patches_3\")"
   ]
  },
  {
   "cell_type": "code",
   "execution_count": 23,
   "id": "a7a129e8-ab9b-4acc-b3cb-40dfe0b6f6bf",
   "metadata": {},
   "outputs": [
    {
     "data": {
      "text/plain": [
       "['class_0_patch_0_size_10_3_ep_10.pt',\n",
       " 'class_0_patch_1_size_10_3_ep_10.pt',\n",
       " 'class_0_patch_2_size_10_3_ep_10.pt',\n",
       " 'class_0_patch_3_size_10_3_ep_10.pt',\n",
       " 'class_0_patch_4_size_10_3_ep_10.pt',\n",
       " 'class_2_patch_1_size_10_3_ep_10.pt',\n",
       " 'class_2_patch_2_size_10_3_ep_10.pt',\n",
       " 'class_2_patch_3_size_10_3_ep_10.pt',\n",
       " 'class_2_patch_4_size_10_3_ep_10.pt',\n",
       " 'class_3_patch_0_size_10_3_ep_10.pt',\n",
       " 'class_3_patch_1_size_10_3_ep_10.pt',\n",
       " 'class_3_patch_3_size_10_3_ep_10.pt',\n",
       " 'class_3_patch_4_size_10_3_ep_10.pt',\n",
       " 'class_4_patch_0_size_10_3_ep_10.pt',\n",
       " 'class_4_patch_1_size_10_3_ep_10.pt',\n",
       " 'class_4_patch_2_size_10_3_ep_10.pt',\n",
       " 'class_4_patch_3_size_10_3_ep_10.pt',\n",
       " 'class_1_patch_0_size_10_3_ep_10.pt',\n",
       " 'class_1_patch_1_size_10_3_ep_10.pt',\n",
       " 'class_1_patch_2_size_10_3_ep_10.pt',\n",
       " 'class_1_patch_3_size_10_3_ep_10.pt',\n",
       " 'class_1_patch_4_size_10_3_ep_10.pt',\n",
       " 'class_2_patch_0_size_10_3_ep_10.pt',\n",
       " 'class_3_patch_2_size_10_3_ep_10.pt',\n",
       " 'class_4_patch_4_size_10_3_ep_10.pt',\n",
       " 'class_5_patch_0_size_10_3_ep_10.pt',\n",
       " 'class_5_patch_1_size_10_3_ep_10.pt',\n",
       " 'class_5_patch_2_size_10_3_ep_10.pt',\n",
       " 'class_5_patch_3_size_10_3_ep_10.pt',\n",
       " 'class_5_patch_4_size_10_3_ep_10.pt']"
      ]
     },
     "execution_count": 23,
     "metadata": {},
     "output_type": "execute_result"
    }
   ],
   "source": [
    "patches_10_3 = list(filter(lambda x: \"size_10_3\" in x, patch_list))\n",
    "patches_10_3"
   ]
  },
  {
   "cell_type": "code",
   "execution_count": 27,
   "id": "78761383-cbb5-4abd-ba85-46289848287e",
   "metadata": {},
   "outputs": [
    {
     "data": {
      "text/plain": [
       "90"
      ]
     },
     "execution_count": 27,
     "metadata": {},
     "output_type": "execute_result"
    }
   ],
   "source": [
    "len(patch_list)"
   ]
  },
  {
   "cell_type": "code",
   "execution_count": 29,
   "id": "d884175f-1666-4cb0-a58e-76f1d6241e68",
   "metadata": {},
   "outputs": [
    {
     "name": "stderr",
     "output_type": "stream",
     "text": [
      "                                                                       \r"
     ]
    }
   ],
   "source": [
    "class_acc_def = {}\n",
    "class_acc_undef = {}\n",
    "\n",
    "results = []\n",
    "for patch_item in patch_list:\n",
    "\n",
    "    rec = {}\n",
    "    \n",
    "    patch_class = int(patch_item[6])\n",
    "    rec['patch_name'] = patch_item\n",
    "    rec['patch_class'] = patch_class\n",
    "    rec['patch_size'] = patch_item[21:25]\n",
    "    \n",
    "    patch = torch.load(os.path.join(\"patches_3\", patch_item))\n",
    "    \n",
    "    acc_undef = eval_patch(model_undefended, patch, test_loader, target_class=patch_class)\n",
    "    acc_def = eval_patch(model_defended, patch, test_loader, target_class=patch_class)\n",
    "    rec['acc_undef'] = round(float(acc_undef.cpu().numpy()),3)\n",
    "    rec['acc_def'] = round(float(acc_def.cpu().numpy()),3)\n",
    "    results.append(rec)"
   ]
  },
  {
   "cell_type": "code",
   "execution_count": 30,
   "id": "77cfb771-e6e4-469e-b680-5a465b4b4681",
   "metadata": {},
   "outputs": [
    {
     "data": {
      "text/plain": [
       "[{'patch_name': 'class_0_patch_0_size_10_3_ep_10.pt',\n",
       "  'patch_class': 0,\n",
       "  'patch_size': '10_3',\n",
       "  'acc_undef': 0.218,\n",
       "  'acc_def': 0.206},\n",
       " {'patch_name': 'class_0_patch_0_size_20_3_ep_10.pt',\n",
       "  'patch_class': 0,\n",
       "  'patch_size': '20_3',\n",
       "  'acc_undef': 0.067,\n",
       "  'acc_def': 0.086},\n",
       " {'patch_name': 'class_0_patch_0_size_30_3_ep_10.pt',\n",
       "  'patch_class': 0,\n",
       "  'patch_size': '30_3',\n",
       "  'acc_undef': 0.689,\n",
       "  'acc_def': 0.352},\n",
       " {'patch_name': 'class_0_patch_1_size_10_3_ep_10.pt',\n",
       "  'patch_class': 0,\n",
       "  'patch_size': '10_3',\n",
       "  'acc_undef': 0.225,\n",
       "  'acc_def': 0.195},\n",
       " {'patch_name': 'class_0_patch_1_size_20_3_ep_10.pt',\n",
       "  'patch_class': 0,\n",
       "  'patch_size': '20_3',\n",
       "  'acc_undef': 0.061,\n",
       "  'acc_def': 0.084},\n",
       " {'patch_name': 'class_0_patch_1_size_30_3_ep_10.pt',\n",
       "  'patch_class': 0,\n",
       "  'patch_size': '30_3',\n",
       "  'acc_undef': 0.698,\n",
       "  'acc_def': 0.326},\n",
       " {'patch_name': 'class_0_patch_2_size_10_3_ep_10.pt',\n",
       "  'patch_class': 0,\n",
       "  'patch_size': '10_3',\n",
       "  'acc_undef': 0.195,\n",
       "  'acc_def': 0.206},\n",
       " {'patch_name': 'class_0_patch_2_size_20_3_ep_10.pt',\n",
       "  'patch_class': 0,\n",
       "  'patch_size': '20_3',\n",
       "  'acc_undef': 0.066,\n",
       "  'acc_def': 0.087},\n",
       " {'patch_name': 'class_0_patch_2_size_30_3_ep_10.pt',\n",
       "  'patch_class': 0,\n",
       "  'patch_size': '30_3',\n",
       "  'acc_undef': 0.684,\n",
       "  'acc_def': 0.39},\n",
       " {'patch_name': 'class_0_patch_3_size_10_3_ep_10.pt',\n",
       "  'patch_class': 0,\n",
       "  'patch_size': '10_3',\n",
       "  'acc_undef': 0.192,\n",
       "  'acc_def': 0.193},\n",
       " {'patch_name': 'class_0_patch_3_size_20_3_ep_10.pt',\n",
       "  'patch_class': 0,\n",
       "  'patch_size': '20_3',\n",
       "  'acc_undef': 0.068,\n",
       "  'acc_def': 0.081},\n",
       " {'patch_name': 'class_0_patch_3_size_30_3_ep_10.pt',\n",
       "  'patch_class': 0,\n",
       "  'patch_size': '30_3',\n",
       "  'acc_undef': 0.685,\n",
       "  'acc_def': 0.326},\n",
       " {'patch_name': 'class_0_patch_4_size_10_3_ep_10.pt',\n",
       "  'patch_class': 0,\n",
       "  'patch_size': '10_3',\n",
       "  'acc_undef': 0.16,\n",
       "  'acc_def': 0.211},\n",
       " {'patch_name': 'class_2_patch_0_size_20_3_ep_10.pt',\n",
       "  'patch_class': 2,\n",
       "  'patch_size': '20_3',\n",
       "  'acc_undef': 0.002,\n",
       "  'acc_def': 0.031},\n",
       " {'patch_name': 'class_2_patch_0_size_30_3_ep_10.pt',\n",
       "  'patch_class': 2,\n",
       "  'patch_size': '30_3',\n",
       "  'acc_undef': 0.007,\n",
       "  'acc_def': 0.033},\n",
       " {'patch_name': 'class_2_patch_1_size_10_3_ep_10.pt',\n",
       "  'patch_class': 2,\n",
       "  'patch_size': '10_3',\n",
       "  'acc_undef': 0.001,\n",
       "  'acc_def': 0.023},\n",
       " {'patch_name': 'class_2_patch_1_size_20_3_ep_10.pt',\n",
       "  'patch_class': 2,\n",
       "  'patch_size': '20_3',\n",
       "  'acc_undef': 0.001,\n",
       "  'acc_def': 0.036},\n",
       " {'patch_name': 'class_2_patch_1_size_30_3_ep_10.pt',\n",
       "  'patch_class': 2,\n",
       "  'patch_size': '30_3',\n",
       "  'acc_undef': 0.051,\n",
       "  'acc_def': 0.036},\n",
       " {'patch_name': 'class_2_patch_2_size_10_3_ep_10.pt',\n",
       "  'patch_class': 2,\n",
       "  'patch_size': '10_3',\n",
       "  'acc_undef': 0.002,\n",
       "  'acc_def': 0.027},\n",
       " {'patch_name': 'class_2_patch_2_size_20_3_ep_10.pt',\n",
       "  'patch_class': 2,\n",
       "  'patch_size': '20_3',\n",
       "  'acc_undef': 0.002,\n",
       "  'acc_def': 0.033},\n",
       " {'patch_name': 'class_2_patch_2_size_30_3_ep_10.pt',\n",
       "  'patch_class': 2,\n",
       "  'patch_size': '30_3',\n",
       "  'acc_undef': 0.046,\n",
       "  'acc_def': 0.042},\n",
       " {'patch_name': 'class_2_patch_3_size_10_3_ep_10.pt',\n",
       "  'patch_class': 2,\n",
       "  'patch_size': '10_3',\n",
       "  'acc_undef': 0.001,\n",
       "  'acc_def': 0.024},\n",
       " {'patch_name': 'class_2_patch_3_size_20_3_ep_10.pt',\n",
       "  'patch_class': 2,\n",
       "  'patch_size': '20_3',\n",
       "  'acc_undef': 0.001,\n",
       "  'acc_def': 0.033},\n",
       " {'patch_name': 'class_2_patch_3_size_30_3_ep_10.pt',\n",
       "  'patch_class': 2,\n",
       "  'patch_size': '30_3',\n",
       "  'acc_undef': 0.035,\n",
       "  'acc_def': 0.042},\n",
       " {'patch_name': 'class_2_patch_4_size_10_3_ep_10.pt',\n",
       "  'patch_class': 2,\n",
       "  'patch_size': '10_3',\n",
       "  'acc_undef': 0.002,\n",
       "  'acc_def': 0.025},\n",
       " {'patch_name': 'class_2_patch_4_size_20_3_ep_10.pt',\n",
       "  'patch_class': 2,\n",
       "  'patch_size': '20_3',\n",
       "  'acc_undef': 0.001,\n",
       "  'acc_def': 0.025},\n",
       " {'patch_name': 'class_2_patch_4_size_30_3_ep_10.pt',\n",
       "  'patch_class': 2,\n",
       "  'patch_size': '30_3',\n",
       "  'acc_undef': 0.001,\n",
       "  'acc_def': 0.028},\n",
       " {'patch_name': 'class_3_patch_0_size_10_3_ep_10.pt',\n",
       "  'patch_class': 3,\n",
       "  'patch_size': '10_3',\n",
       "  'acc_undef': 0.0,\n",
       "  'acc_def': 0.091},\n",
       " {'patch_name': 'class_3_patch_0_size_20_3_ep_10.pt',\n",
       "  'patch_class': 3,\n",
       "  'patch_size': '20_3',\n",
       "  'acc_undef': 0.0,\n",
       "  'acc_def': 0.092},\n",
       " {'patch_name': 'class_3_patch_0_size_30_3_ep_10.pt',\n",
       "  'patch_class': 3,\n",
       "  'patch_size': '30_3',\n",
       "  'acc_undef': 0.0,\n",
       "  'acc_def': 0.09},\n",
       " {'patch_name': 'class_3_patch_1_size_10_3_ep_10.pt',\n",
       "  'patch_class': 3,\n",
       "  'patch_size': '10_3',\n",
       "  'acc_undef': 0.0,\n",
       "  'acc_def': 0.091},\n",
       " {'patch_name': 'class_3_patch_1_size_20_3_ep_10.pt',\n",
       "  'patch_class': 3,\n",
       "  'patch_size': '20_3',\n",
       "  'acc_undef': 0.0,\n",
       "  'acc_def': 0.086},\n",
       " {'patch_name': 'class_3_patch_1_size_30_3_ep_10.pt',\n",
       "  'patch_class': 3,\n",
       "  'patch_size': '30_3',\n",
       "  'acc_undef': 0.0,\n",
       "  'acc_def': 0.109},\n",
       " {'patch_name': 'class_3_patch_2_size_20_3_ep_10.pt',\n",
       "  'patch_class': 3,\n",
       "  'patch_size': '20_3',\n",
       "  'acc_undef': 0.0,\n",
       "  'acc_def': 0.1},\n",
       " {'patch_name': 'class_3_patch_2_size_30_3_ep_10.pt',\n",
       "  'patch_class': 3,\n",
       "  'patch_size': '30_3',\n",
       "  'acc_undef': 0.0,\n",
       "  'acc_def': 0.095},\n",
       " {'patch_name': 'class_3_patch_3_size_10_3_ep_10.pt',\n",
       "  'patch_class': 3,\n",
       "  'patch_size': '10_3',\n",
       "  'acc_undef': 0.0,\n",
       "  'acc_def': 0.097},\n",
       " {'patch_name': 'class_3_patch_3_size_20_3_ep_10.pt',\n",
       "  'patch_class': 3,\n",
       "  'patch_size': '20_3',\n",
       "  'acc_undef': 0.0,\n",
       "  'acc_def': 0.085},\n",
       " {'patch_name': 'class_3_patch_3_size_30_3_ep_10.pt',\n",
       "  'patch_class': 3,\n",
       "  'patch_size': '30_3',\n",
       "  'acc_undef': 0.0,\n",
       "  'acc_def': 0.099},\n",
       " {'patch_name': 'class_3_patch_4_size_10_3_ep_10.pt',\n",
       "  'patch_class': 3,\n",
       "  'patch_size': '10_3',\n",
       "  'acc_undef': 0.0,\n",
       "  'acc_def': 0.082},\n",
       " {'patch_name': 'class_3_patch_4_size_20_3_ep_10.pt',\n",
       "  'patch_class': 3,\n",
       "  'patch_size': '20_3',\n",
       "  'acc_undef': 0.0,\n",
       "  'acc_def': 0.093},\n",
       " {'patch_name': 'class_3_patch_4_size_30_3_ep_10.pt',\n",
       "  'patch_class': 3,\n",
       "  'patch_size': '30_3',\n",
       "  'acc_undef': 0.0,\n",
       "  'acc_def': 0.103},\n",
       " {'patch_name': 'class_4_patch_0_size_10_3_ep_10.pt',\n",
       "  'patch_class': 4,\n",
       "  'patch_size': '10_3',\n",
       "  'acc_undef': 0.099,\n",
       "  'acc_def': 0.47},\n",
       " {'patch_name': 'class_4_patch_0_size_20_3_ep_10.pt',\n",
       "  'patch_class': 4,\n",
       "  'patch_size': '20_3',\n",
       "  'acc_undef': 0.123,\n",
       "  'acc_def': 0.487},\n",
       " {'patch_name': 'class_4_patch_0_size_30_3_ep_10.pt',\n",
       "  'patch_class': 4,\n",
       "  'patch_size': '30_3',\n",
       "  'acc_undef': 0.31,\n",
       "  'acc_def': 0.539},\n",
       " {'patch_name': 'class_4_patch_1_size_10_3_ep_10.pt',\n",
       "  'patch_class': 4,\n",
       "  'patch_size': '10_3',\n",
       "  'acc_undef': 0.081,\n",
       "  'acc_def': 0.466},\n",
       " {'patch_name': 'class_4_patch_1_size_20_3_ep_10.pt',\n",
       "  'patch_class': 4,\n",
       "  'patch_size': '20_3',\n",
       "  'acc_undef': 0.159,\n",
       "  'acc_def': 0.486},\n",
       " {'patch_name': 'class_4_patch_1_size_30_3_ep_10.pt',\n",
       "  'patch_class': 4,\n",
       "  'patch_size': '30_3',\n",
       "  'acc_undef': 0.252,\n",
       "  'acc_def': 0.532},\n",
       " {'patch_name': 'class_4_patch_2_size_10_3_ep_10.pt',\n",
       "  'patch_class': 4,\n",
       "  'patch_size': '10_3',\n",
       "  'acc_undef': 0.075,\n",
       "  'acc_def': 0.465},\n",
       " {'patch_name': 'class_4_patch_2_size_20_3_ep_10.pt',\n",
       "  'patch_class': 4,\n",
       "  'patch_size': '20_3',\n",
       "  'acc_undef': 0.144,\n",
       "  'acc_def': 0.476},\n",
       " {'patch_name': 'class_4_patch_2_size_30_3_ep_10.pt',\n",
       "  'patch_class': 4,\n",
       "  'patch_size': '30_3',\n",
       "  'acc_undef': 0.305,\n",
       "  'acc_def': 0.496},\n",
       " {'patch_name': 'class_4_patch_3_size_10_3_ep_10.pt',\n",
       "  'patch_class': 4,\n",
       "  'patch_size': '10_3',\n",
       "  'acc_undef': 0.075,\n",
       "  'acc_def': 0.47},\n",
       " {'patch_name': 'class_0_patch_4_size_30_3_ep_10.pt',\n",
       "  'patch_class': 0,\n",
       "  'patch_size': '30_3',\n",
       "  'acc_undef': 0.685,\n",
       "  'acc_def': 0.331},\n",
       " {'patch_name': 'class_1_patch_0_size_10_3_ep_10.pt',\n",
       "  'patch_class': 1,\n",
       "  'patch_size': '10_3',\n",
       "  'acc_undef': 0.063,\n",
       "  'acc_def': 0.017},\n",
       " {'patch_name': 'class_1_patch_0_size_20_3_ep_10.pt',\n",
       "  'patch_class': 1,\n",
       "  'patch_size': '20_3',\n",
       "  'acc_undef': 0.018,\n",
       "  'acc_def': 0.002},\n",
       " {'patch_name': 'class_1_patch_0_size_30_3_ep_10.pt',\n",
       "  'patch_class': 1,\n",
       "  'patch_size': '30_3',\n",
       "  'acc_undef': 0.339,\n",
       "  'acc_def': 0.094},\n",
       " {'patch_name': 'class_1_patch_1_size_10_3_ep_10.pt',\n",
       "  'patch_class': 1,\n",
       "  'patch_size': '10_3',\n",
       "  'acc_undef': 0.063,\n",
       "  'acc_def': 0.016},\n",
       " {'patch_name': 'class_1_patch_1_size_20_3_ep_10.pt',\n",
       "  'patch_class': 1,\n",
       "  'patch_size': '20_3',\n",
       "  'acc_undef': 0.015,\n",
       "  'acc_def': 0.002},\n",
       " {'patch_name': 'class_1_patch_1_size_30_3_ep_10.pt',\n",
       "  'patch_class': 1,\n",
       "  'patch_size': '30_3',\n",
       "  'acc_undef': 0.346,\n",
       "  'acc_def': 0.082},\n",
       " {'patch_name': 'class_1_patch_2_size_10_3_ep_10.pt',\n",
       "  'patch_class': 1,\n",
       "  'patch_size': '10_3',\n",
       "  'acc_undef': 0.063,\n",
       "  'acc_def': 0.018},\n",
       " {'patch_name': 'class_1_patch_2_size_20_3_ep_10.pt',\n",
       "  'patch_class': 1,\n",
       "  'patch_size': '20_3',\n",
       "  'acc_undef': 0.016,\n",
       "  'acc_def': 0.001},\n",
       " {'patch_name': 'class_1_patch_2_size_30_3_ep_10.pt',\n",
       "  'patch_class': 1,\n",
       "  'patch_size': '30_3',\n",
       "  'acc_undef': 0.392,\n",
       "  'acc_def': 0.094},\n",
       " {'patch_name': 'class_1_patch_3_size_10_3_ep_10.pt',\n",
       "  'patch_class': 1,\n",
       "  'patch_size': '10_3',\n",
       "  'acc_undef': 0.058,\n",
       "  'acc_def': 0.016},\n",
       " {'patch_name': 'class_1_patch_3_size_20_3_ep_10.pt',\n",
       "  'patch_class': 1,\n",
       "  'patch_size': '20_3',\n",
       "  'acc_undef': 0.018,\n",
       "  'acc_def': 0.004},\n",
       " {'patch_name': 'class_1_patch_3_size_30_3_ep_10.pt',\n",
       "  'patch_class': 1,\n",
       "  'patch_size': '30_3',\n",
       "  'acc_undef': 0.444,\n",
       "  'acc_def': 0.115},\n",
       " {'patch_name': 'class_1_patch_4_size_10_3_ep_10.pt',\n",
       "  'patch_class': 1,\n",
       "  'patch_size': '10_3',\n",
       "  'acc_undef': 0.057,\n",
       "  'acc_def': 0.014},\n",
       " {'patch_name': 'class_1_patch_4_size_20_3_ep_10.pt',\n",
       "  'patch_class': 1,\n",
       "  'patch_size': '20_3',\n",
       "  'acc_undef': 0.017,\n",
       "  'acc_def': 0.002},\n",
       " {'patch_name': 'class_1_patch_4_size_30_3_ep_10.pt',\n",
       "  'patch_class': 1,\n",
       "  'patch_size': '30_3',\n",
       "  'acc_undef': 0.33,\n",
       "  'acc_def': 0.099},\n",
       " {'patch_name': 'class_0_patch_4_size_20_3_ep_10.pt',\n",
       "  'patch_class': 0,\n",
       "  'patch_size': '20_3',\n",
       "  'acc_undef': 0.065,\n",
       "  'acc_def': 0.091},\n",
       " {'patch_name': 'class_2_patch_0_size_10_3_ep_10.pt',\n",
       "  'patch_class': 2,\n",
       "  'patch_size': '10_3',\n",
       "  'acc_undef': 0.001,\n",
       "  'acc_def': 0.023},\n",
       " {'patch_name': 'class_3_patch_2_size_10_3_ep_10.pt',\n",
       "  'patch_class': 3,\n",
       "  'patch_size': '10_3',\n",
       "  'acc_undef': 0.0,\n",
       "  'acc_def': 0.093},\n",
       " {'patch_name': 'class_4_patch_3_size_20_3_ep_10.pt',\n",
       "  'patch_class': 4,\n",
       "  'patch_size': '20_3',\n",
       "  'acc_undef': 0.158,\n",
       "  'acc_def': 0.471},\n",
       " {'patch_name': 'class_4_patch_3_size_30_3_ep_10.pt',\n",
       "  'patch_class': 4,\n",
       "  'patch_size': '30_3',\n",
       "  'acc_undef': 0.332,\n",
       "  'acc_def': 0.502},\n",
       " {'patch_name': 'class_4_patch_4_size_10_3_ep_10.pt',\n",
       "  'patch_class': 4,\n",
       "  'patch_size': '10_3',\n",
       "  'acc_undef': 0.076,\n",
       "  'acc_def': 0.469},\n",
       " {'patch_name': 'class_4_patch_4_size_20_3_ep_10.pt',\n",
       "  'patch_class': 4,\n",
       "  'patch_size': '20_3',\n",
       "  'acc_undef': 0.123,\n",
       "  'acc_def': 0.495},\n",
       " {'patch_name': 'class_4_patch_4_size_30_3_ep_10.pt',\n",
       "  'patch_class': 4,\n",
       "  'patch_size': '30_3',\n",
       "  'acc_undef': 0.311,\n",
       "  'acc_def': 0.497},\n",
       " {'patch_name': 'class_5_patch_0_size_10_3_ep_10.pt',\n",
       "  'patch_class': 5,\n",
       "  'patch_size': '10_3',\n",
       "  'acc_undef': 0.3,\n",
       "  'acc_def': 0.189},\n",
       " {'patch_name': 'class_5_patch_0_size_20_3_ep_10.pt',\n",
       "  'patch_class': 5,\n",
       "  'patch_size': '20_3',\n",
       "  'acc_undef': 0.541,\n",
       "  'acc_def': 0.29},\n",
       " {'patch_name': 'class_5_patch_0_size_30_3_ep_10.pt',\n",
       "  'patch_class': 5,\n",
       "  'patch_size': '30_3',\n",
       "  'acc_undef': 0.835,\n",
       "  'acc_def': 0.397},\n",
       " {'patch_name': 'class_5_patch_1_size_10_3_ep_10.pt',\n",
       "  'patch_class': 5,\n",
       "  'patch_size': '10_3',\n",
       "  'acc_undef': 0.313,\n",
       "  'acc_def': 0.19},\n",
       " {'patch_name': 'class_5_patch_1_size_20_3_ep_10.pt',\n",
       "  'patch_class': 5,\n",
       "  'patch_size': '20_3',\n",
       "  'acc_undef': 0.558,\n",
       "  'acc_def': 0.282},\n",
       " {'patch_name': 'class_5_patch_1_size_30_3_ep_10.pt',\n",
       "  'patch_class': 5,\n",
       "  'patch_size': '30_3',\n",
       "  'acc_undef': 0.72,\n",
       "  'acc_def': 0.446},\n",
       " {'patch_name': 'class_5_patch_2_size_10_3_ep_10.pt',\n",
       "  'patch_class': 5,\n",
       "  'patch_size': '10_3',\n",
       "  'acc_undef': 0.296,\n",
       "  'acc_def': 0.195},\n",
       " {'patch_name': 'class_5_patch_2_size_20_3_ep_10.pt',\n",
       "  'patch_class': 5,\n",
       "  'patch_size': '20_3',\n",
       "  'acc_undef': 0.529,\n",
       "  'acc_def': 0.26},\n",
       " {'patch_name': 'class_5_patch_2_size_30_3_ep_10.pt',\n",
       "  'patch_class': 5,\n",
       "  'patch_size': '30_3',\n",
       "  'acc_undef': 0.834,\n",
       "  'acc_def': 0.387},\n",
       " {'patch_name': 'class_5_patch_3_size_10_3_ep_10.pt',\n",
       "  'patch_class': 5,\n",
       "  'patch_size': '10_3',\n",
       "  'acc_undef': 0.285,\n",
       "  'acc_def': 0.18},\n",
       " {'patch_name': 'class_5_patch_3_size_20_3_ep_10.pt',\n",
       "  'patch_class': 5,\n",
       "  'patch_size': '20_3',\n",
       "  'acc_undef': 0.505,\n",
       "  'acc_def': 0.243},\n",
       " {'patch_name': 'class_5_patch_3_size_30_3_ep_10.pt',\n",
       "  'patch_class': 5,\n",
       "  'patch_size': '30_3',\n",
       "  'acc_undef': 0.745,\n",
       "  'acc_def': 0.41},\n",
       " {'patch_name': 'class_5_patch_4_size_10_3_ep_10.pt',\n",
       "  'patch_class': 5,\n",
       "  'patch_size': '10_3',\n",
       "  'acc_undef': 0.312,\n",
       "  'acc_def': 0.196},\n",
       " {'patch_name': 'class_5_patch_4_size_20_3_ep_10.pt',\n",
       "  'patch_class': 5,\n",
       "  'patch_size': '20_3',\n",
       "  'acc_undef': 0.526,\n",
       "  'acc_def': 0.305},\n",
       " {'patch_name': 'class_5_patch_4_size_30_3_ep_10.pt',\n",
       "  'patch_class': 5,\n",
       "  'patch_size': '30_3',\n",
       "  'acc_undef': 0.827,\n",
       "  'acc_def': 0.394}]"
      ]
     },
     "execution_count": 30,
     "metadata": {},
     "output_type": "execute_result"
    }
   ],
   "source": [
    "results"
   ]
  },
  {
   "cell_type": "code",
   "execution_count": 43,
   "id": "28e1605e-d3f2-4c39-bc94-e5a9d1317c24",
   "metadata": {},
   "outputs": [
    {
     "data": {
      "text/plain": [
       "Text(0.5, 1.0, 'Patch size: 30x3')"
      ]
     },
     "execution_count": 43,
     "metadata": {},
     "output_type": "execute_result"
    },
    {
     "data": {
      "image/png": "[encoded data removed]",
      "text/plain": [
       "<Figure size 1080x720 with 3 Axes>"
      ]
     },
     "metadata": {
      "needs_background": "light"
     },
     "output_type": "display_data"
    }
   ],
   "source": [
    "fig, axs = plt.subplots(1,3, figsize=(15,10))\n",
    "\n",
    "scatter1 = {'0':[], '0def':[],'1':[], '1def':[],'2':[], '2def':[],'3':[], '3def':[],'4':[], '4def':[],'5':[], '5def':[]}\n",
    "scatter2 = {'0':[], '0def':[],'1':[], '1def':[],'2':[], '2def':[],'3':[], '3def':[],'4':[], '4def':[],'5':[], '5def':[]}\n",
    "scatter3 = {'0':[], '0def':[],'1':[], '1def':[],'2':[], '2def':[],'3':[], '3def':[],'4':[], '4def':[],'5':[], '5def':[]}\n",
    "\n",
    "for rec in results:\n",
    "    if rec['patch_size'] == \"10_3\":\n",
    "        subplot_i = 0\n",
    "    if rec['patch_size'] == \"20_3\":\n",
    "        subplot_i = 1\n",
    "    if rec['patch_size'] == \"30_3\":\n",
    "        subplot_i = 2\n",
    "    \n",
    "    axs[subplot_i].scatter(rec['patch_class'], rec['acc_undef'], marker='x', c = ['red'], label='undefended')\n",
    "    axs[subplot_i].scatter(rec['patch_class'], rec['acc_def'], marker='o', c = ['green'], label='defended')\n",
    "for i in range(3):\n",
    "    axs[i].set_xlim(-1,6)\n",
    "    axs[i].set_ylim(-0.1,1.1)\n",
    "\n",
    "axs[0].set_title(\"Patch size: 10x3\")\n",
    "axs[1].set_title(\"Patch size: 20x3\")\n",
    "axs[2].set_title(\"Patch size: 30x3\")"
   ]
  },
  {
   "cell_type": "code",
   "execution_count": 33,
   "id": "bf88da8d-2e7f-43fc-a3ff-8a135fcbeecc",
   "metadata": {},
   "outputs": [
    {
     "data": {
      "image/png": "[encoded data removed]",
      "text/plain": [
       "<Figure size 432x288 with 1 Axes>"
      ]
     },
     "metadata": {
      "needs_background": "light"
     },
     "output_type": "display_data"
    }
   ],
   "source": [
    "classes = labels = ('Downstairs','Jogging','Sitting','Standing','Upstairs','Walking')\n",
    "species = (\"Adelie\", \"Chinstrap\", \"Gentoo\")\n",
    "penguin_means = {\n",
    "    'Bill Depth': (18.35, 18.43, 14.98),\n",
    "    'Bill Length': (38.79, 48.83, 47.50),\n",
    "    'Flipper Length': (189.95, 195.82, 217.19),\n",
    "}\n",
    "class_acc = {\n",
    "    'undef': list(class_acc_undef.values()),\n",
    "    'def': list(class_acc_def.values())\n",
    "}\n",
    "\n",
    "x = np.arange(6)  # the label locations\n",
    "width = 0.25  # the width of the bars\n",
    "multiplier = 0\n",
    "\n",
    "fig, ax = plt.subplots()\n",
    "\n",
    "for attribute, measurement in class_acc.items():\n",
    "    offset = width * multiplier\n",
    "    rects = ax.bar(x + offset, measurement, width, label=attribute)\n",
    "    ax.bar_label(rects, padding=3)\n",
    "    multiplier += 1\n",
    "\n",
    "# Add some text for labels, title and custom x-axis tick labels, etc.\n",
    "ax.set_ylabel('attack success')\n",
    "ax.set_title('Class')\n",
    "ax.set_xticks(x + width)\n",
    "ax.set_xticklabels(classes)\n",
    "ax.legend(loc='upper left')\n",
    "ax.set_ylim(0, 1)\n",
    "\n",
    "plt.show()"
   ]
  },
  {
   "cell_type": "code",
   "execution_count": 23,
   "id": "b1495594-5433-4961-97dd-419673afb62e",
   "metadata": {},
   "outputs": [
    {
     "name": "stdout",
     "output_type": "stream",
     "text": [
      "class_0_patch_0_size_10_3_ep_10.pt\t"
     ]
    },
    {
     "name": "stderr",
     "output_type": "stream",
     "text": [
      "                                                                       \r"
     ]
    },
    {
     "name": "stdout",
     "output_type": "stream",
     "text": [
      "0.0009 0.0463\n",
      "class_1_patch_0_size_10_3_ep_10.pt\t"
     ]
    },
    {
     "name": "stderr",
     "output_type": "stream",
     "text": [
      "                                                                       \r"
     ]
    },
    {
     "name": "stdout",
     "output_type": "stream",
     "text": [
      "0.0415 0.0454\n",
      "class_2_patch_0_size_10_3_ep_10.pt\t"
     ]
    },
    {
     "name": "stderr",
     "output_type": "stream",
     "text": [
      "                                                                       \r"
     ]
    },
    {
     "name": "stdout",
     "output_type": "stream",
     "text": [
      "0.0062 0.0042\n",
      "class_3_patch_0_size_10_3_ep_10.pt\t"
     ]
    },
    {
     "name": "stderr",
     "output_type": "stream",
     "text": [
      "                                                                       \r"
     ]
    },
    {
     "name": "stdout",
     "output_type": "stream",
     "text": [
      "0.0104 0.0000\n",
      "class_4_patch_0_size_10_3_ep_10.pt\t"
     ]
    },
    {
     "name": "stderr",
     "output_type": "stream",
     "text": [
      "                                                                       \r"
     ]
    },
    {
     "name": "stdout",
     "output_type": "stream",
     "text": [
      "0.0000 0.2410\n",
      "class_5_patch_0_size_10_3_ep_10.pt\t"
     ]
    },
    {
     "name": "stderr",
     "output_type": "stream",
     "text": [
      "                                                                       "
     ]
    },
    {
     "name": "stdout",
     "output_type": "stream",
     "text": [
      "0.4962 0.1450\n"
     ]
    },
    {
     "name": "stderr",
     "output_type": "stream",
     "text": [
      "\r"
     ]
    }
   ],
   "source": [
    "for patch_item in patch_list[1::2]:\n",
    "    patch = torch.load(os.path.join(\"patches_2\", patch_item))\n",
    "    patch_class = int(patch_item[6])\n",
    "    print(patch_item, end=\"\\t\")\n",
    "    acc_undef = eval_patch(model_undefended, patch, test_loader, target_class=patch_class)\n",
    "    acc_def = eval_patch(model_defended, patch, test_loader, target_class=patch_class)\n",
    "    print(\"%.4f %.4f\" %(acc_undef.cpu().numpy(), acc_def.cpu().numpy()) )"
   ]
  },
  {
   "cell_type": "code",
   "execution_count": null,
   "id": "1a6a049b-6a05-4426-8f62-079d191305c9",
   "metadata": {},
   "outputs": [],
   "source": []
  },
  {
   "cell_type": "code",
   "execution_count": 17,
   "id": "24de43571f61ae9e",
   "metadata": {
    "ExecuteTime": {
     "end_time": "2024-01-13T12:06:02.067430100Z",
     "start_time": "2024-01-13T12:01:36.709303500Z"
    },
    "scrolled": true
   },
   "outputs": [
    {
     "name": "stderr",
     "output_type": "stream",
     "text": [
      "                                                                         "
     ]
    },
    {
     "name": "stdout",
     "output_type": "stream",
     "text": [
      "Epoch 0, FOOLING Test Accuracy: 0.67\n"
     ]
    },
    {
     "name": "stderr",
     "output_type": "stream",
     "text": [
      "\r"
     ]
    },
    {
     "data": {
      "image/png": "[encoded data removed]",
      "text/plain": [
       "<Figure size 432x288 with 1 Axes>"
      ]
     },
     "metadata": {
      "needs_background": "light"
     },
     "output_type": "display_data"
    },
    {
     "name": "stderr",
     "output_type": "stream",
     "text": [
      "                                                                         \r"
     ]
    },
    {
     "name": "stdout",
     "output_type": "stream",
     "text": [
      "Epoch 1, FOOLING Test Accuracy: 0.66\n"
     ]
    },
    {
     "data": {
      "image/png": "[encoded data removed]",
      "text/plain": [
       "<Figure size 432x288 with 1 Axes>"
      ]
     },
     "metadata": {
      "needs_background": "light"
     },
     "output_type": "display_data"
    },
    {
     "name": "stderr",
     "output_type": "stream",
     "text": [
      "                                                                         "
     ]
    },
    {
     "name": "stdout",
     "output_type": "stream",
     "text": [
      "Epoch 2, FOOLING Test Accuracy: 0.68\n"
     ]
    },
    {
     "name": "stderr",
     "output_type": "stream",
     "text": [
      "\r"
     ]
    },
    {
     "data": {
      "image/png": "[encoded data removed]",
      "text/plain": [
       "<Figure size 432x288 with 1 Axes>"
      ]
     },
     "metadata": {
      "needs_background": "light"
     },
     "output_type": "display_data"
    },
    {
     "name": "stderr",
     "output_type": "stream",
     "text": [
      "                                                                         "
     ]
    },
    {
     "name": "stdout",
     "output_type": "stream",
     "text": [
      "Epoch 3, FOOLING Test Accuracy: 0.67\n"
     ]
    },
    {
     "name": "stderr",
     "output_type": "stream",
     "text": [
      "\r"
     ]
    },
    {
     "data": {
      "image/png": "[encoded data removed]",
      "text/plain": [
       "<Figure size 432x288 with 1 Axes>"
      ]
     },
     "metadata": {
      "needs_background": "light"
     },
     "output_type": "display_data"
    },
    {
     "name": "stderr",
     "output_type": "stream",
     "text": [
      "                                                                         \r"
     ]
    },
    {
     "name": "stdout",
     "output_type": "stream",
     "text": [
      "Epoch 4, FOOLING Test Accuracy: 0.68\n"
     ]
    },
    {
     "data": {
      "image/png": "[encoded data removed]",
      "text/plain": [
       "<Figure size 432x288 with 1 Axes>"
      ]
     },
     "metadata": {
      "needs_background": "light"
     },
     "output_type": "display_data"
    },
    {
     "name": "stderr",
     "output_type": "stream",
     "text": [
      "                                                                          "
     ]
    },
    {
     "name": "stdout",
     "output_type": "stream",
     "text": [
      "Epoch 5, FOOLING Test Accuracy: 0.67\n"
     ]
    },
    {
     "name": "stderr",
     "output_type": "stream",
     "text": [
      "\r"
     ]
    },
    {
     "data": {
      "image/png": "[encoded data removed]",
      "text/plain": [
       "<Figure size 432x288 with 1 Axes>"
      ]
     },
     "metadata": {
      "needs_background": "light"
     },
     "output_type": "display_data"
    },
    {
     "name": "stderr",
     "output_type": "stream",
     "text": [
      "                                                                         "
     ]
    },
    {
     "name": "stdout",
     "output_type": "stream",
     "text": [
      "Epoch 6, FOOLING Test Accuracy: 0.69\n"
     ]
    },
    {
     "name": "stderr",
     "output_type": "stream",
     "text": [
      "\r"
     ]
    },
    {
     "data": {
      "image/png": "[encoded data removed]",
      "text/plain": [
       "<Figure size 432x288 with 1 Axes>"
      ]
     },
     "metadata": {
      "needs_background": "light"
     },
     "output_type": "display_data"
    },
    {
     "name": "stderr",
     "output_type": "stream",
     "text": [
      "                                                                          \r"
     ]
    },
    {
     "name": "stdout",
     "output_type": "stream",
     "text": [
      "Epoch 7, FOOLING Test Accuracy: 0.67\n"
     ]
    },
    {
     "data": {
      "image/png": "[encoded data removed]",
      "text/plain": [
       "<Figure size 432x288 with 1 Axes>"
      ]
     },
     "metadata": {
      "needs_background": "light"
     },
     "output_type": "display_data"
    },
    {
     "name": "stderr",
     "output_type": "stream",
     "text": [
      "                                                                         \r"
     ]
    },
    {
     "name": "stdout",
     "output_type": "stream",
     "text": [
      "Epoch 8, FOOLING Test Accuracy: 0.67\n"
     ]
    },
    {
     "data": {
      "image/png": "[encoded data removed]",
      "text/plain": [
       "<Figure size 432x288 with 1 Axes>"
      ]
     },
     "metadata": {
      "needs_background": "light"
     },
     "output_type": "display_data"
    },
    {
     "name": "stderr",
     "output_type": "stream",
     "text": [
      "                                                                          \r"
     ]
    },
    {
     "name": "stdout",
     "output_type": "stream",
     "text": [
      "Epoch 9, FOOLING Test Accuracy: 0.69\n"
     ]
    },
    {
     "data": {
      "image/png": "[encoded data removed]",
      "text/plain": [
       "<Figure size 432x288 with 1 Axes>"
      ]
     },
     "metadata": {
      "needs_background": "light"
     },
     "output_type": "display_data"
    },
    {
     "name": "stderr",
     "output_type": "stream",
     "text": [
      "                                                                           \r"
     ]
    },
    {
     "name": "stdout",
     "output_type": "stream",
     "text": [
      "Epoch 0, FOOLING Test Accuracy: 0.01\n"
     ]
    },
    {
     "data": {
      "image/png": "[encoded data removed]",
      "text/plain": [
       "<Figure size 432x288 with 1 Axes>"
      ]
     },
     "metadata": {
      "needs_background": "light"
     },
     "output_type": "display_data"
    },
    {
     "name": "stderr",
     "output_type": "stream",
     "text": [
      "                                                                           \r"
     ]
    },
    {
     "name": "stdout",
     "output_type": "stream",
     "text": [
      "Epoch 1, FOOLING Test Accuracy: 0.01\n"
     ]
    },
    {
     "data": {
      "image/png": "[encoded data removed]",
      "text/plain": [
       "<Figure size 432x288 with 1 Axes>"
      ]
     },
     "metadata": {
      "needs_background": "light"
     },
     "output_type": "display_data"
    },
    {
     "name": "stderr",
     "output_type": "stream",
     "text": [
      "                                                                           \r"
     ]
    },
    {
     "name": "stdout",
     "output_type": "stream",
     "text": [
      "Epoch 2, FOOLING Test Accuracy: 0.01\n"
     ]
    },
    {
     "data": {
      "image/png": "[encoded data removed]",
      "text/plain": [
       "<Figure size 432x288 with 1 Axes>"
      ]
     },
     "metadata": {
      "needs_background": "light"
     },
     "output_type": "display_data"
    },
    {
     "name": "stderr",
     "output_type": "stream",
     "text": [
      "                                                                           \r"
     ]
    },
    {
     "name": "stdout",
     "output_type": "stream",
     "text": [
      "Epoch 3, FOOLING Test Accuracy: 0.01\n"
     ]
    },
    {
     "data": {
      "image/png": "[encoded data removed]",
      "text/plain": [
       "<Figure size 432x288 with 1 Axes>"
      ]
     },
     "metadata": {
      "needs_background": "light"
     },
     "output_type": "display_data"
    },
    {
     "name": "stderr",
     "output_type": "stream",
     "text": [
      "                                                                           \r"
     ]
    },
    {
     "name": "stdout",
     "output_type": "stream",
     "text": [
      "Epoch 4, FOOLING Test Accuracy: 0.01\n"
     ]
    },
    {
     "data": {
      "image/png": "[encoded data removed]",
      "text/plain": [
       "<Figure size 432x288 with 1 Axes>"
      ]
     },
     "metadata": {
      "needs_background": "light"
     },
     "output_type": "display_data"
    },
    {
     "name": "stderr",
     "output_type": "stream",
     "text": [
      "                                                                           \r"
     ]
    },
    {
     "name": "stdout",
     "output_type": "stream",
     "text": [
      "Epoch 5, FOOLING Test Accuracy: 0.02\n"
     ]
    },
    {
     "data": {
      "image/png": "[encoded data removed]",
      "text/plain": [
       "<Figure size 432x288 with 1 Axes>"
      ]
     },
     "metadata": {
      "needs_background": "light"
     },
     "output_type": "display_data"
    },
    {
     "name": "stderr",
     "output_type": "stream",
     "text": [
      "                                                                           \r"
     ]
    },
    {
     "name": "stdout",
     "output_type": "stream",
     "text": [
      "Epoch 6, FOOLING Test Accuracy: 0.02\n"
     ]
    },
    {
     "data": {
      "image/png": "[encoded data removed]",
      "text/plain": [
       "<Figure size 432x288 with 1 Axes>"
      ]
     },
     "metadata": {
      "needs_background": "light"
     },
     "output_type": "display_data"
    },
    {
     "name": "stderr",
     "output_type": "stream",
     "text": [
      "                                                                           \r"
     ]
    },
    {
     "name": "stdout",
     "output_type": "stream",
     "text": [
      "Epoch 7, FOOLING Test Accuracy: 0.02\n"
     ]
    },
    {
     "data": {
      "image/png": "[encoded data removed]",
      "text/plain": [
       "<Figure size 432x288 with 1 Axes>"
      ]
     },
     "metadata": {
      "needs_background": "light"
     },
     "output_type": "display_data"
    },
    {
     "name": "stderr",
     "output_type": "stream",
     "text": [
      "                                                                           \r"
     ]
    },
    {
     "name": "stdout",
     "output_type": "stream",
     "text": [
      "Epoch 8, FOOLING Test Accuracy: 0.02\n"
     ]
    },
    {
     "data": {
      "image/png": "[encoded data removed]",
      "text/plain": [
       "<Figure size 432x288 with 1 Axes>"
      ]
     },
     "metadata": {
      "needs_background": "light"
     },
     "output_type": "display_data"
    },
    {
     "name": "stderr",
     "output_type": "stream",
     "text": [
      "                                                                           \r"
     ]
    },
    {
     "name": "stdout",
     "output_type": "stream",
     "text": [
      "Epoch 9, FOOLING Test Accuracy: 0.02\n"
     ]
    },
    {
     "data": {
      "image/png": "[encoded data removed]",
      "text/plain": [
       "<Figure size 432x288 with 1 Axes>"
      ]
     },
     "metadata": {
      "needs_background": "light"
     },
     "output_type": "display_data"
    },
    {
     "name": "stdout",
     "output_type": "stream",
     "text": [
      "Fooling accuracy defended vs. undefended: 0.6731552481651306 vs. 0.011543684639036655\n"
     ]
    }
   ],
   "source": [
    "# Run the patch_attack function\n",
    "patch_def, metrics_def = patch_attack(model_defended, train_loader, test_loader, target_class=0, patch_size=(40,3), num_epochs=10)\n",
    "patch, metrics = patch_attack(model_undefended, train_loader, test_loader, target_class=0, patch_size=(40,3), num_epochs=10)\n",
    "print(f'Fooling accuracy defended vs. undefended: {metrics_def[0]} vs. {metrics[0]}')"
   ]
  },
  {
   "cell_type": "code",
   "execution_count": 19,
   "id": "d7da2a27-b305-40ce-9695-fd14459f1e53",
   "metadata": {},
   "outputs": [
    {
     "data": {
      "text/plain": [
       "[0.5222094655036926,\n",
       " 0.5264672040939331,\n",
       " 0.5249712467193604,\n",
       " 0.5235903263092041,\n",
       " 0.5284234881401062,\n",
       " 0.5369390249252319,\n",
       " 0.5134637355804443,\n",
       " 0.5148446559906006,\n",
       " 0.526121973991394,\n",
       " 0.5191023945808411]"
      ]
     },
     "execution_count": 19,
     "metadata": {},
     "output_type": "execute_result"
    }
   ],
   "source": [
    "metrics_def"
   ]
  },
  {
   "cell_type": "code",
   "execution_count": 18,
   "id": "ab2b477ed5277cb5",
   "metadata": {
    "ExecuteTime": {
     "end_time": "2024-01-13T12:16:02.561999300Z",
     "start_time": "2024-01-13T12:11:47.870184100Z"
    },
    "collapsed": false,
    "jupyter": {
     "outputs_hidden": false
    },
    "scrolled": true
   },
   "outputs": [
    {
     "name": "stderr",
     "output_type": "stream",
     "text": [
      "                                                                         \r"
     ]
    },
    {
     "name": "stdout",
     "output_type": "stream",
     "text": [
      "Epoch 0, FOOLING Test Accuracy: 0.52\n"
     ]
    },
    {
     "data": {
      "image/png": "[encoded data removed]",
      "text/plain": [
       "<Figure size 432x288 with 1 Axes>"
      ]
     },
     "metadata": {
      "needs_background": "light"
     },
     "output_type": "display_data"
    },
    {
     "name": "stderr",
     "output_type": "stream",
     "text": [
      "                                                                         \r"
     ]
    },
    {
     "name": "stdout",
     "output_type": "stream",
     "text": [
      "Epoch 1, FOOLING Test Accuracy: 0.53\n"
     ]
    },
    {
     "data": {
      "image/png": "[encoded data removed]",
      "text/plain": [
       "<Figure size 432x288 with 1 Axes>"
      ]
     },
     "metadata": {
      "needs_background": "light"
     },
     "output_type": "display_data"
    },
    {
     "name": "stderr",
     "output_type": "stream",
     "text": [
      "                                                                         "
     ]
    },
    {
     "name": "stdout",
     "output_type": "stream",
     "text": [
      "Epoch 2, FOOLING Test Accuracy: 0.52\n"
     ]
    },
    {
     "name": "stderr",
     "output_type": "stream",
     "text": [
      "\r"
     ]
    },
    {
     "data": {
      "image/png": "[encoded data removed]",
      "text/plain": [
       "<Figure size 432x288 with 1 Axes>"
      ]
     },
     "metadata": {
      "needs_background": "light"
     },
     "output_type": "display_data"
    },
    {
     "name": "stderr",
     "output_type": "stream",
     "text": [
      "                                                                         \r"
     ]
    },
    {
     "name": "stdout",
     "output_type": "stream",
     "text": [
      "Epoch 3, FOOLING Test Accuracy: 0.52\n"
     ]
    },
    {
     "data": {
      "image/png": "[encoded data removed]",
      "text/plain": [
       "<Figure size 432x288 with 1 Axes>"
      ]
     },
     "metadata": {
      "needs_background": "light"
     },
     "output_type": "display_data"
    },
    {
     "name": "stderr",
     "output_type": "stream",
     "text": [
      "                                                                         \r"
     ]
    },
    {
     "name": "stdout",
     "output_type": "stream",
     "text": [
      "Epoch 4, FOOLING Test Accuracy: 0.53\n"
     ]
    },
    {
     "data": {
      "image/png": "[encoded data removed]",
      "text/plain": [
       "<Figure size 432x288 with 1 Axes>"
      ]
     },
     "metadata": {
      "needs_background": "light"
     },
     "output_type": "display_data"
    },
    {
     "name": "stderr",
     "output_type": "stream",
     "text": [
      "                                                                         \r"
     ]
    },
    {
     "name": "stdout",
     "output_type": "stream",
     "text": [
      "Epoch 5, FOOLING Test Accuracy: 0.54\n"
     ]
    },
    {
     "data": {
      "image/png": "[encoded data removed]",
      "text/plain": [
       "<Figure size 432x288 with 1 Axes>"
      ]
     },
     "metadata": {
      "needs_background": "light"
     },
     "output_type": "display_data"
    },
    {
     "name": "stderr",
     "output_type": "stream",
     "text": [
      "                                                                         \r"
     ]
    },
    {
     "name": "stdout",
     "output_type": "stream",
     "text": [
      "Epoch 6, FOOLING Test Accuracy: 0.51\n"
     ]
    },
    {
     "data": {
      "image/png": "[encoded data removed]",
      "text/plain": [
       "<Figure size 432x288 with 1 Axes>"
      ]
     },
     "metadata": {
      "needs_background": "light"
     },
     "output_type": "display_data"
    },
    {
     "name": "stderr",
     "output_type": "stream",
     "text": [
      "                                                                           \r"
     ]
    },
    {
     "name": "stdout",
     "output_type": "stream",
     "text": [
      "Epoch 7, FOOLING Test Accuracy: 0.51\n"
     ]
    },
    {
     "data": {
      "image/png": "[encoded data removed]",
      "text/plain": [
       "<Figure size 432x288 with 1 Axes>"
      ]
     },
     "metadata": {
      "needs_background": "light"
     },
     "output_type": "display_data"
    },
    {
     "name": "stderr",
     "output_type": "stream",
     "text": [
      "                                                                         \r"
     ]
    },
    {
     "name": "stdout",
     "output_type": "stream",
     "text": [
      "Epoch 8, FOOLING Test Accuracy: 0.53\n"
     ]
    },
    {
     "data": {
      "image/png": "[encoded data removed]",
      "text/plain": [
       "<Figure size 432x288 with 1 Axes>"
      ]
     },
     "metadata": {
      "needs_background": "light"
     },
     "output_type": "display_data"
    },
    {
     "name": "stderr",
     "output_type": "stream",
     "text": [
      "                                                                         \r"
     ]
    },
    {
     "name": "stdout",
     "output_type": "stream",
     "text": [
      "Epoch 9, FOOLING Test Accuracy: 0.52\n"
     ]
    },
    {
     "data": {
      "image/png": "[encoded data removed]",
      "text/plain": [
       "<Figure size 432x288 with 1 Axes>"
      ]
     },
     "metadata": {
      "needs_background": "light"
     },
     "output_type": "display_data"
    },
    {
     "name": "stderr",
     "output_type": "stream",
     "text": [
      "                                                                           \r"
     ]
    },
    {
     "name": "stdout",
     "output_type": "stream",
     "text": [
      "Epoch 0, FOOLING Test Accuracy: 0.00\n"
     ]
    },
    {
     "data": {
      "image/png": "[encoded data removed]",
      "text/plain": [
       "<Figure size 432x288 with 1 Axes>"
      ]
     },
     "metadata": {
      "needs_background": "light"
     },
     "output_type": "display_data"
    },
    {
     "name": "stderr",
     "output_type": "stream",
     "text": [
      "                                                                           \r"
     ]
    },
    {
     "name": "stdout",
     "output_type": "stream",
     "text": [
      "Epoch 1, FOOLING Test Accuracy: 0.00\n"
     ]
    },
    {
     "data": {
      "image/png": "[encoded data removed]",
      "text/plain": [
       "<Figure size 432x288 with 1 Axes>"
      ]
     },
     "metadata": {
      "needs_background": "light"
     },
     "output_type": "display_data"
    },
    {
     "name": "stderr",
     "output_type": "stream",
     "text": [
      "                                                                           \r"
     ]
    },
    {
     "name": "stdout",
     "output_type": "stream",
     "text": [
      "Epoch 2, FOOLING Test Accuracy: 0.00\n"
     ]
    },
    {
     "data": {
      "image/png": "[encoded data removed]",
      "text/plain": [
       "<Figure size 432x288 with 1 Axes>"
      ]
     },
     "metadata": {
      "needs_background": "light"
     },
     "output_type": "display_data"
    },
    {
     "name": "stderr",
     "output_type": "stream",
     "text": [
      "                                                                           \r"
     ]
    },
    {
     "name": "stdout",
     "output_type": "stream",
     "text": [
      "Epoch 3, FOOLING Test Accuracy: 0.00\n"
     ]
    },
    {
     "data": {
      "image/png": "[encoded data removed]",
      "text/plain": [
       "<Figure size 432x288 with 1 Axes>"
      ]
     },
     "metadata": {
      "needs_background": "light"
     },
     "output_type": "display_data"
    },
    {
     "name": "stderr",
     "output_type": "stream",
     "text": [
      "                                                                           \r"
     ]
    },
    {
     "name": "stdout",
     "output_type": "stream",
     "text": [
      "Epoch 4, FOOLING Test Accuracy: 0.00\n"
     ]
    },
    {
     "data": {
      "image/png": "[encoded data removed]",
      "text/plain": [
       "<Figure size 432x288 with 1 Axes>"
      ]
     },
     "metadata": {
      "needs_background": "light"
     },
     "output_type": "display_data"
    },
    {
     "name": "stderr",
     "output_type": "stream",
     "text": [
      "                                                                           "
     ]
    },
    {
     "name": "stdout",
     "output_type": "stream",
     "text": [
      "Epoch 5, FOOLING Test Accuracy: 0.00\n"
     ]
    },
    {
     "name": "stderr",
     "output_type": "stream",
     "text": [
      "\r"
     ]
    },
    {
     "data": {
      "image/png": "[encoded data removed]",
      "text/plain": [
       "<Figure size 432x288 with 1 Axes>"
      ]
     },
     "metadata": {
      "needs_background": "light"
     },
     "output_type": "display_data"
    },
    {
     "name": "stderr",
     "output_type": "stream",
     "text": [
      "                                                                           \r"
     ]
    },
    {
     "name": "stdout",
     "output_type": "stream",
     "text": [
      "Epoch 6, FOOLING Test Accuracy: 0.00\n"
     ]
    },
    {
     "data": {
      "image/png": "[encoded data removed]",
      "text/plain": [
       "<Figure size 432x288 with 1 Axes>"
      ]
     },
     "metadata": {
      "needs_background": "light"
     },
     "output_type": "display_data"
    },
    {
     "name": "stderr",
     "output_type": "stream",
     "text": [
      "                                                                           \r"
     ]
    },
    {
     "name": "stdout",
     "output_type": "stream",
     "text": [
      "Epoch 7, FOOLING Test Accuracy: 0.00\n"
     ]
    },
    {
     "data": {
      "image/png": "[encoded data removed]",
      "text/plain": [
       "<Figure size 432x288 with 1 Axes>"
      ]
     },
     "metadata": {
      "needs_background": "light"
     },
     "output_type": "display_data"
    },
    {
     "name": "stderr",
     "output_type": "stream",
     "text": [
      "                                                                           \r"
     ]
    },
    {
     "name": "stdout",
     "output_type": "stream",
     "text": [
      "Epoch 8, FOOLING Test Accuracy: 0.00\n"
     ]
    },
    {
     "data": {
      "image/png": "[encoded data removed]",
      "text/plain": [
       "<Figure size 432x288 with 1 Axes>"
      ]
     },
     "metadata": {
      "needs_background": "light"
     },
     "output_type": "display_data"
    },
    {
     "name": "stderr",
     "output_type": "stream",
     "text": [
      "                                                                           \r"
     ]
    },
    {
     "name": "stdout",
     "output_type": "stream",
     "text": [
      "Epoch 9, FOOLING Test Accuracy: 0.00\n"
     ]
    },
    {
     "data": {
      "image/png": "[encoded data removed]",
      "text/plain": [
       "<Figure size 432x288 with 1 Axes>"
      ]
     },
     "metadata": {
      "needs_background": "light"
     },
     "output_type": "display_data"
    },
    {
     "name": "stdout",
     "output_type": "stream",
     "text": [
      "Accuracy defended vs. undefended: 0.5222094655036926 vs. 0.0\n"
     ]
    }
   ],
   "source": [
    "# Run the patch_attack function\n",
    "patch_def, metrics_def = patch_attack(model_defended, train_loader, test_loader, target_class=4, patch_size=(30,3), num_epochs=10)\n",
    "patch, metrics = patch_attack(model_undefended, train_loader, test_loader, target_class=4, patch_size=(30,3), num_epochs=10)\n",
    "\n",
    "print(f'Accuracy defended vs. undefended: {metrics_def[0]} vs. {metrics[0]}')"
   ]
  },
  {
   "cell_type": "code",
   "execution_count": 23,
   "id": "5d1a9f70-5a27-40fb-b870-c5623082593c",
   "metadata": {},
   "outputs": [
    {
     "data": {
      "text/plain": [
       "<matplotlib.legend.Legend at 0x7f7d8dee2c10>"
      ]
     },
     "execution_count": 23,
     "metadata": {},
     "output_type": "execute_result"
    },
    {
     "data": {
      "image/png": "[encoded data removed]",
      "text/plain": [
       "<Figure size 432x288 with 1 Axes>"
      ]
     },
     "metadata": {
      "needs_background": "light"
     },
     "output_type": "display_data"
    }
   ],
   "source": [
    "plt.plot(metrics_def, label=\"with defense\")\n",
    "plt.plot(metrics, label=\"without defense\")\n",
    "plt.legend()"
   ]
  },
  {
   "cell_type": "code",
   "execution_count": 14,
   "id": "cbeed031c55c750f",
   "metadata": {
    "ExecuteTime": {
     "end_time": "2024-01-13T10:33:05.144970700Z",
     "start_time": "2024-01-13T10:32:43.795826Z"
    },
    "collapsed": false,
    "jupyter": {
     "outputs_hidden": false
    }
   },
   "outputs": [
    {
     "name": "stderr",
     "output_type": "stream",
     "text": [
      "                                                                         "
     ]
    },
    {
     "name": "stdout",
     "output_type": "stream",
     "text": [
      "Epoch 0, FOOLING Test Accuracy: 1.00\n"
     ]
    },
    {
     "name": "stderr",
     "output_type": "stream",
     "text": [
      "\r"
     ]
    },
    {
     "data": {
      "image/png": "[encoded data removed]",
      "text/plain": [
       "<Figure size 432x288 with 1 Axes>"
      ]
     },
     "metadata": {
      "needs_background": "light"
     },
     "output_type": "display_data"
    }
   ],
   "source": [
    "# Run the patch_attack function\n",
    "patch_def, metrics_def = patch_attack(model_defended, train_loader, test_loader, target_class=0, patch_size=(90,3), num_epochs=1)\n",
    "#patch, metrics = patch_attack(model_undefended, train_loader, test_loader, target_class=0, patch_size=(90,3), num_epochs=1)\n",
    "\n",
    "#print(f'Accuracy defended vs. undefended: {metrics_def[0]} vs. {metrics[0]}')"
   ]
  },
  {
   "cell_type": "code",
   "execution_count": 15,
   "id": "c4082ece611e7442",
   "metadata": {
    "ExecuteTime": {
     "end_time": "2024-01-13T10:04:56.174469600Z",
     "start_time": "2024-01-13T10:04:46.668876900Z"
    },
    "collapsed": false,
    "jupyter": {
     "outputs_hidden": false
    }
   },
   "outputs": [
    {
     "name": "stderr",
     "output_type": "stream",
     "text": [
      "                                                                          "
     ]
    },
    {
     "name": "stdout",
     "output_type": "stream",
     "text": [
      "Epoch 0, FOOLING Test Accuracy: 0.36\n"
     ]
    },
    {
     "name": "stderr",
     "output_type": "stream",
     "text": [
      "\r"
     ]
    },
    {
     "data": {
      "image/png": "[encoded data removed]",
      "text/plain": [
       "<Figure size 432x288 with 1 Axes>"
      ]
     },
     "metadata": {
      "needs_background": "light"
     },
     "output_type": "display_data"
    },
    {
     "name": "stderr",
     "output_type": "stream",
     "text": [
      "                                                                          \r"
     ]
    },
    {
     "name": "stdout",
     "output_type": "stream",
     "text": [
      "Epoch 1, FOOLING Test Accuracy: 0.37\n"
     ]
    },
    {
     "data": {
      "image/png": "[encoded data removed]",
      "text/plain": [
       "<Figure size 432x288 with 1 Axes>"
      ]
     },
     "metadata": {
      "needs_background": "light"
     },
     "output_type": "display_data"
    }
   ],
   "source": [
    "# Run the patch_attack function\n",
    "patch, metrics = patch_attack(model_defended, train_loader, test_loader, target_class=0, patch_size=(90,1), num_epochs=2)"
   ]
  },
  {
   "cell_type": "code",
   "execution_count": 16,
   "id": "e71bbae91e73d02d",
   "metadata": {
    "collapsed": false,
    "jupyter": {
     "outputs_hidden": false
    }
   },
   "outputs": [],
   "source": [
    "#TODO: plot the patch NOT as a 2D image, but as a signal over time (with variable # of channels)\n",
    "# in an sample as well"
   ]
  },
  {
   "cell_type": "code",
   "execution_count": null,
   "id": "8676fcc66f9540da",
   "metadata": {
    "collapsed": false,
    "jupyter": {
     "outputs_hidden": false
    }
   },
   "outputs": [],
   "source": [
    "#TODO: try to attack a single dimension constantly (not randomly)\n",
    "# --> would be nice if we just replace only x-dimension"
   ]
  }
 ],
 "metadata": {
  "kernelspec": {
   "display_name": "Python 3",
   "language": "python",
   "name": "python3"
  },
  "language_info": {
   "codemirror_mode": {
    "name": "ipython",
    "version": 3
   },
   "file_extension": ".py",
   "mimetype": "text/x-python",
   "name": "python",
   "nbconvert_exporter": "python",
   "pygments_lexer": "ipython3",
   "version": "3.9.16"
  }
 },
 "nbformat": 4,
 "nbformat_minor": 5
}
