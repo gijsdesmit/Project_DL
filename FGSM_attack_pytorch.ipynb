{
 "cells": [
  {
   "cell_type": "code",
   "execution_count": 2,
   "outputs": [],
   "source": [
    "import numpy as np\n",
    "from tqdm import tqdm\n",
    "import matplotlib.pyplot as plt\n",
    "from torch.utils.data import TensorDataset, DataLoader\n",
    "import torch\n",
    "from torch import nn\n",
    "import torch.nn.functional as F"
   ],
   "metadata": {
    "collapsed": false,
    "ExecuteTime": {
     "end_time": "2024-01-10T19:59:59.179726100Z",
     "start_time": "2024-01-10T19:59:53.457584300Z"
    }
   },
   "id": "8327a012518cacdb"
  },
  {
   "cell_type": "code",
   "execution_count": 15,
   "outputs": [],
   "source": [
    "numChannels = 1\n",
    "numFilters = 128 # number of filters in Conv2D layer\n",
    "kernalSize1 = 2 # kernal size of the Conv2D layer\n",
    "poolingWindowSz = 2\n",
    "numNueronsFCL1 = 128\n",
    "numNueronsFCL2 = 128\n",
    "dropOutRatio = 0.2\n",
    "numOfRows = 90\n",
    "numOfColumns = 3\n",
    "numClasses = 6\n",
    "batchSize = 1\n",
    "\n",
    "class PyTorchModel(nn.Module):\n",
    "    def __init__(self):\n",
    "        super(PyTorchModel, self).__init__()\n",
    "        # add random\n",
    "       \n",
    "        self.conv1 = nn.Conv2d(numChannels, numFilters, (kernalSize1, kernalSize1))\n",
    "        self.pool = nn.MaxPool2d((poolingWindowSz, poolingWindowSz))\n",
    "        self.dropout = nn.Dropout(dropOutRatio)\n",
    "        self.fc1 = nn.Linear(numFilters * ((numOfRows - kernalSize1 + 1) // poolingWindowSz) * ((numOfColumns - kernalSize1 + 1) // poolingWindowSz), numNueronsFCL1)\n",
    "        self.fc2 = nn.Linear(numNueronsFCL1, numNueronsFCL2)\n",
    "        self.fc3 = nn.Linear(numNueronsFCL2, numClasses)\n",
    "\n",
    "    def forward(self, x):\n",
    "        x = self.pool(F.relu(self.conv1(x)))\n",
    "        x = self.dropout(x)\n",
    "        x = x.view(-1, numFilters * ((numOfRows - kernalSize1 + 1) // poolingWindowSz) * ((numOfColumns - kernalSize1 + 1) // poolingWindowSz))\n",
    "        x = F.relu(self.fc1(x))\n",
    "        x = F.relu(self.fc2(x))\n",
    "        x = self.fc3(x)\n",
    "        return x"
   ],
   "metadata": {
    "collapsed": false,
    "ExecuteTime": {
     "end_time": "2024-01-10T20:03:52.632376300Z",
     "start_time": "2024-01-10T20:03:52.617748200Z"
    }
   },
   "id": "b71b3ba14ff1c6f4"
  },
  {
   "cell_type": "code",
   "execution_count": 4,
   "outputs": [
    {
     "data": {
      "text/plain": "<All keys matched successfully>"
     },
     "execution_count": 4,
     "metadata": {},
     "output_type": "execute_result"
    }
   ],
   "source": [
    "#load python model\n",
    "model = PyTorchModel()\n",
    "state_dict = torch.load('model_pytorch.pth')\n",
    "model.load_state_dict(state_dict)"
   ],
   "metadata": {
    "collapsed": false,
    "ExecuteTime": {
     "end_time": "2024-01-10T19:59:59.243247300Z",
     "start_time": "2024-01-10T19:59:59.193726300Z"
    }
   },
   "id": "1f8dbcc25fdadcdf"
  },
  {
   "cell_type": "code",
   "execution_count": 17,
   "outputs": [],
   "source": [
    "testX = np.load('testData.npy')\n",
    "testY = np.load('groundTruth.npy')\n",
    "trainX = np.load('trainData.npy')\n",
    "trainY = np.load('trainLabels.npy')\n",
    "\n",
    "# Convert the training and testing data to PyTorch tensors\n",
    "trainX_torch = torch.from_numpy(np.transpose(trainX, (0, 3, 1, 2))).float()\n",
    "trainY_torch = torch.from_numpy(np.argmax(trainY, axis=1)).long()\n",
    "testX_torch = torch.from_numpy(np.transpose(testX, (0, 3, 1, 2))).float()\n",
    "testY_torch = torch.from_numpy(np.argmax(testY, axis=1)).long()\n",
    "\n",
    "# Create TensorDatasets for training and testing data\n",
    "train_data = TensorDataset(trainX_torch, trainY_torch)\n",
    "test_data = TensorDataset(testX_torch, testY_torch)\n",
    "\n",
    "# Create DataLoaders for training and testing data\n",
    "train_loader = DataLoader(train_data, batch_size=batchSize, shuffle=True)\n",
    "test_loader = DataLoader(test_data, batch_size=batchSize, shuffle=False)"
   ],
   "metadata": {
    "collapsed": false,
    "ExecuteTime": {
     "end_time": "2024-01-10T20:04:13.778260900Z",
     "start_time": "2024-01-10T20:04:13.719734700Z"
    }
   },
   "id": "6d1d215b0881fef5"
  },
  {
   "cell_type": "code",
   "execution_count": 26,
   "outputs": [
    {
     "name": "stdout",
     "output_type": "stream",
     "text": [
      "-4.322391471376455 4.085751745014715\n"
     ]
    }
   ],
   "source": [
    "#get min max of trainX\n",
    "min_trainX = np.min(trainX)\n",
    "max_trainX = np.max(trainX)\n",
    "print(min_trainX, max_trainX)"
   ],
   "metadata": {
    "collapsed": false,
    "ExecuteTime": {
     "end_time": "2024-01-10T20:12:20.603466400Z",
     "start_time": "2024-01-10T20:12:20.573495600Z"
    }
   },
   "id": "b6ad779ebf834139"
  },
  {
   "cell_type": "code",
   "execution_count": 6,
   "outputs": [],
   "source": [
    "# In this notebook we will perform Adversarial Patch attack on the model, by treating a training sample as a 2D image (90 X 3) and placing a patch on it.\n",
    "# We will use the PyTorch framework to implement the attack.\n",
    "\n",
    "device = torch.device(\"cuda:0\" if torch.cuda.is_available() else \"cpu\")"
   ],
   "metadata": {
    "collapsed": false,
    "ExecuteTime": {
     "end_time": "2024-01-10T19:59:59.349286300Z",
     "start_time": "2024-01-10T19:59:59.339286500Z"
    }
   },
   "id": "2e2a1445458e323a"
  },
  {
   "cell_type": "code",
   "execution_count": 7,
   "outputs": [],
   "source": [
    "def plot_sample(sample):\n",
    "    sample = np.transpose(sample.detach().numpy())\n",
    "    plt.imshow(sample, aspect='auto')\n",
    "    plt.show()"
   ],
   "metadata": {
    "collapsed": false,
    "ExecuteTime": {
     "end_time": "2024-01-10T19:59:59.371287Z",
     "start_time": "2024-01-10T19:59:59.349286300Z"
    }
   },
   "id": "8e5ddcd64567c0ab"
  },
  {
   "cell_type": "code",
   "execution_count": 27,
   "outputs": [],
   "source": [
    "criterion = nn.CrossEntropyLoss()\n",
    "def fgsm_attack(model, data, labels, epsilon):\n",
    "    if epsilon == 0:\n",
    "        return data\n",
    "    \n",
    "    data.requires_grad = True # Set requires_grad attribute of tensor to true because we need to compute the gradient w.r.t to the input data\n",
    "    outputs = model(data) # Forward pass\n",
    "    init_pred = outputs.max(1, keepdim=True)[1] # get the index of the max log-probability\n",
    "    #if init_pred.item() != labels.item(): # If the initial prediction is wrong, don't bother attacking, just move on\n",
    "    #    return data\n",
    "    #loss = F.nll_loss(outputs, labels) # Calculate the loss\n",
    "    loss = criterion(outputs, labels)\n",
    "    model.zero_grad() # Zero all existing gradients\n",
    "    loss.backward() # Calculate gradients of model in backward pass\n",
    "    data_grad = data.grad.data # Collect datagrad\n",
    "    sign_data_grad = data_grad.sign() # Call FGSM Attack\n",
    "    perturbed_data = data + epsilon*sign_data_grad # Create the perturbed image by adjusting each pixel of the input image    \n",
    "    \n",
    "    #TODO: Have a look at the range of original data and adjust accordingly\n",
    "    #perturbed_data = torch.clamp(perturbed_data, 0, 1) # Adding clipping to maintain [0,1] range\n",
    "\n",
    "    return perturbed_data"
   ],
   "metadata": {
    "collapsed": false,
    "ExecuteTime": {
     "end_time": "2024-01-10T20:13:25.689626700Z",
     "start_time": "2024-01-10T20:13:25.683628700Z"
    }
   },
   "id": "b9658dba25514c42"
  },
  {
   "cell_type": "code",
   "execution_count": 31,
   "outputs": [],
   "source": [
    "def test_fgsm_attack(model, device, test_loader, epsilon):\n",
    "    correct = 0\n",
    "    adv_examples = []\n",
    "\n",
    "    for data, target in test_loader: # Loop over all examples in test set\n",
    "        data, target = data.to(device), target.to(device) # Send the data and label to the device\n",
    "        outputs = model(data) # Calculate initial prediction\n",
    "        init_pred = outputs.max(1, keepdim=True)[1] # get the index of the max log-probability\n",
    "\n",
    "        perturbed_data = fgsm_attack(model, data, target, epsilon)  # Call FGSM Attack\n",
    "        output = model(perturbed_data) # Re-classify the perturbed image\n",
    "\n",
    "        final_pred = output.max(1, keepdim=True)[1] # get the index of the max log-probability\n",
    "      \n",
    "        if final_pred.item() == target.item():\n",
    "            correct += 1\n",
    "        \n",
    "        # Save some adv examples for visualization later\n",
    "        if len(adv_examples) < 5:\n",
    "            adv_ex = perturbed_data.squeeze().detach().cpu().numpy()\n",
    "            adv_examples.append( (init_pred.item(), final_pred.item(), adv_ex) )\n",
    "\n",
    "    # Calculate final accuracy for this epsilon\n",
    "    final_acc = correct/float(len(test_loader))\n",
    "    print(\"Epsilon: {}\\tTest Accuracy = {}\".format(epsilon, final_acc))\n",
    "\n",
    "    # Return the accuracy and an adversarial example\n",
    "    return final_acc, adv_examples"
   ],
   "metadata": {
    "collapsed": false,
    "ExecuteTime": {
     "end_time": "2024-01-10T20:19:13.250067500Z",
     "start_time": "2024-01-10T20:19:13.234064800Z"
    }
   },
   "id": "12d670ce24338be0"
  },
  {
   "cell_type": "code",
   "execution_count": 29,
   "outputs": [
    {
     "name": "stdout",
     "output_type": "stream",
     "text": [
      "Epsilon: 0.2\tTest Accuracy = 1902 / 4891 = 0.38887753015743204\n",
      "Final Accuracy on adversarial examples:  0.38887753015743204\n"
     ]
    }
   ],
   "source": [
    "# Test the attack\n",
    "epsilon = 0.2\n",
    "final_acc, adv_examples = test_fgsm_attack(model, device, test_loader, epsilon)\n",
    "\n",
    "print(\"Final Accuracy on adversarial examples: \", final_acc)"
   ],
   "metadata": {
    "collapsed": false,
    "ExecuteTime": {
     "end_time": "2024-01-10T20:14:18.072814300Z",
     "start_time": "2024-01-10T20:13:28.439393200Z"
    }
   },
   "id": "e71bbae91e73d02d"
  },
  {
   "cell_type": "code",
   "execution_count": 32,
   "outputs": [
    {
     "name": "stdout",
     "output_type": "stream",
     "text": [
      "Epsilon: 0\tTest Accuracy = 4473 / 4891 = 0.9145369045185033\n",
      "Epsilon: 0\tTest Accuracy = 0.9145369045185033\n",
      "Epsilon: 0.05\tTest Accuracy = 3797 / 4891 = 0.7763238601512983\n",
      "Epsilon: 0.05\tTest Accuracy = 0.7763238601512983\n",
      "Epsilon: 0.1\tTest Accuracy = 2999 / 4891 = 0.6131670415048047\n",
      "Epsilon: 0.1\tTest Accuracy = 0.6131670415048047\n",
      "Epsilon: 0.15\tTest Accuracy = 2344 / 4891 = 0.4792475976282969\n",
      "Epsilon: 0.15\tTest Accuracy = 0.4792475976282969\n",
      "Epsilon: 0.2\tTest Accuracy = 1935 / 4891 = 0.39562461664281334\n",
      "Epsilon: 0.2\tTest Accuracy = 0.39562461664281334\n",
      "Epsilon: 0.25\tTest Accuracy = 1614 / 4891 = 0.3299938662850133\n",
      "Epsilon: 0.25\tTest Accuracy = 0.3299938662850133\n",
      "Epsilon: 0.3\tTest Accuracy = 1403 / 4891 = 0.2868534042118176\n",
      "Epsilon: 0.3\tTest Accuracy = 0.2868534042118176\n",
      "Epsilon: 0.35\tTest Accuracy = 1243 / 4891 = 0.25414025761602943\n",
      "Epsilon: 0.35\tTest Accuracy = 0.25414025761602943\n",
      "Epsilon: 0.4\tTest Accuracy = 1101 / 4891 = 0.22510734001226743\n",
      "Epsilon: 0.4\tTest Accuracy = 0.22510734001226743\n",
      "Epsilon: 0.45\tTest Accuracy = 1100 / 4891 = 0.22490288284604376\n",
      "Epsilon: 0.45\tTest Accuracy = 0.22490288284604376\n",
      "Epsilon: 0.5\tTest Accuracy = 1092 / 4891 = 0.22326722551625436\n",
      "Epsilon: 0.5\tTest Accuracy = 0.22326722551625436\n"
     ]
    }
   ],
   "source": [
    "# Run attack for different epsilon values\n",
    "accs = []\n",
    "epsilons = [0, 0.05, 0.1, 0.15, 0.2, 0.25, 0.3, 0.35, 0.4, .45, .5]\n",
    "\n",
    "for e in epsilons:\n",
    "    acc, ex = test_fgsm_attack(model, device, test_loader, e)\n",
    "    accs.append(acc)"
   ],
   "metadata": {
    "collapsed": false,
    "ExecuteTime": {
     "end_time": "2024-01-10T20:26:56.703735400Z",
     "start_time": "2024-01-10T20:19:28.043455600Z"
    }
   },
   "id": "a3b3b34b270bca39"
  },
  {
   "cell_type": "code",
   "execution_count": 36,
   "outputs": [
    {
     "data": {
      "text/plain": "<Figure size 500x500 with 1 Axes>",
      "image/png": "[encoded data removed]"
     },
     "metadata": {},
     "output_type": "display_data"
    }
   ],
   "source": [
    "#TODO: plot accuracy vs. epsilon\n",
    "\n",
    "import matplotlib.pyplot as plt\n",
    "\n",
    "plt.figure(figsize=(5,5))\n",
    "plt.plot(epsilons, accs, \"*-\")\n",
    "plt.yticks(np.arange(0, 1.1, step=0.1))\n",
    "plt.xticks(np.arange(0, .55, step=0.05))\n",
    "plt.title(\"FGSM Attack: Test Accuracy vs Epsilon\")\n",
    "plt.grid()\n",
    "plt.xlabel(\"Epsilon\")\n",
    "plt.ylabel(\"Accuracy\")\n",
    "plt.show()"
   ],
   "metadata": {
    "collapsed": false,
    "ExecuteTime": {
     "end_time": "2024-01-10T20:27:59.710802400Z",
     "start_time": "2024-01-10T20:27:59.432606100Z"
    }
   },
   "id": "1c235eca8b591a98"
  },
  {
   "cell_type": "code",
   "execution_count": null,
   "outputs": [],
   "source": [
    "#TODO: get data before normalisation"
   ],
   "metadata": {
    "collapsed": false
   },
   "id": "19b51d548fa1b723"
  },
  {
   "cell_type": "code",
   "execution_count": null,
   "outputs": [],
   "source": [
    "#TODO: plot some adversarial examples vs. original examples"
   ],
   "metadata": {
    "collapsed": false
   },
   "id": "b4258eea6aab87b8"
  }
 ],
 "metadata": {
  "kernelspec": {
   "display_name": "Python 3",
   "language": "python",
   "name": "python3"
  },
  "language_info": {
   "codemirror_mode": {
    "name": "ipython",
    "version": 2
   },
   "file_extension": ".py",
   "mimetype": "text/x-python",
   "name": "python",
   "nbconvert_exporter": "python",
   "pygments_lexer": "ipython2",
   "version": "2.7.6"
  }
 },
 "nbformat": 4,
 "nbformat_minor": 5
}
