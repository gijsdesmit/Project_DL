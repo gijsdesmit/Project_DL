{
 "cells": [
  {
   "cell_type": "code",
   "execution_count": 3,
   "id": "578c4b38-e5e3-4b9c-9d38-16703ae0b406",
   "metadata": {},
   "outputs": [],
   "source": [
    "import torch\n",
    "from torch import nn"
   ]
  },
  {
   "cell_type": "code",
   "execution_count": 21,
   "id": "d9358f1f-9216-43c1-8632-3d412c49cce7",
   "metadata": {},
   "outputs": [],
   "source": [
    "import numpy as np"
   ]
  },
  {
   "cell_type": "code",
   "execution_count": 26,
   "id": "3710c2d0-2897-4aec-b9e1-d29190d0a57d",
   "metadata": {},
   "outputs": [
    {
     "data": {
      "text/plain": [
       "tensor([[0.0636, 0.0565, 0.0133],\n",
       "        [0.0243, 0.0109, 0.0957],\n",
       "        [0.0528, 0.2056, 0.0710],\n",
       "        [0.6208, 0.0533, 0.4223],\n",
       "        [0.0324, 0.1447, 0.1301],\n",
       "        [0.0986, 0.1461, 0.0537],\n",
       "        [0.0116, 0.0539, 0.1356],\n",
       "        [0.0434, 0.2595, 0.0430],\n",
       "        [0.0193, 0.0661, 0.0198],\n",
       "        [0.0331, 0.0033, 0.0156]])"
      ]
     },
     "execution_count": 26,
     "metadata": {},
     "output_type": "execute_result"
    }
   ],
   "source": [
    "m = nn.Softmax(dim=0)\n",
    "input = torch.randn(10,3)\n",
    "output = m(input)\n",
    "output"
   ]
  },
  {
   "cell_type": "code",
   "execution_count": 28,
   "id": "267fc7b3-66c3-4d1e-89d1-43573817ae2c",
   "metadata": {},
   "outputs": [
    {
     "data": {
      "text/plain": [
       "array([0.9999999, 1.       , 1.0000002], dtype=float32)"
      ]
     },
     "execution_count": 28,
     "metadata": {},
     "output_type": "execute_result"
    }
   ],
   "source": [
    "np.sum(output.numpy(), axis=0)"
   ]
  },
  {
   "cell_type": "code",
   "execution_count": 14,
   "id": "970e78f6-424e-4530-94bf-21a5a4307ca6",
   "metadata": {},
   "outputs": [
    {
     "data": {
      "text/plain": [
       "torch.Size([2, 3])"
      ]
     },
     "execution_count": 14,
     "metadata": {},
     "output_type": "execute_result"
    }
   ],
   "source": [
    "input.shape"
   ]
  },
  {
   "cell_type": "code",
   "execution_count": 15,
   "id": "fd239b01-ac9d-46f2-9bbf-4933522a648b",
   "metadata": {},
   "outputs": [
    {
     "data": {
      "text/plain": [
       "torch.Size([2, 3])"
      ]
     },
     "execution_count": 15,
     "metadata": {},
     "output_type": "execute_result"
    }
   ],
   "source": [
    "output.shape"
   ]
  },
  {
   "cell_type": "code",
   "execution_count": null,
   "id": "10e9bec6-31ca-4d4e-8a2a-0628f1000e83",
   "metadata": {},
   "outputs": [],
   "source": []
  }
 ],
 "metadata": {
  "kernelspec": {
   "display_name": "Python 3",
   "language": "python",
   "name": "python3"
  },
  "language_info": {
   "codemirror_mode": {
    "name": "ipython",
    "version": 3
   },
   "file_extension": ".py",
   "mimetype": "text/x-python",
   "name": "python",
   "nbconvert_exporter": "python",
   "pygments_lexer": "ipython3",
   "version": "3.9.16"
  }
 },
 "nbformat": 4,
 "nbformat_minor": 5
}
